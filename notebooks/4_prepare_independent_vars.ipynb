{
 "cells": [
  {
   "cell_type": "code",
   "execution_count": 2,
   "metadata": {},
   "outputs": [
    {
     "name": "stderr",
     "output_type": "stream",
     "text": [
      "/opt/conda/lib/python3.7/site-packages/geopandas/_compat.py:110: UserWarning: The Shapely GEOS version (3.8.0-CAPI-1.13.1 ) is incompatible with the GEOS version PyGEOS was compiled with (3.9.1-CAPI-1.14.2). Conversions between both will be slow.\n",
      "  shapely_geos_version, geos_capi_version_string\n"
     ]
    }
   ],
   "source": [
    "import pandas as pd\n",
    "import geopandas as gpd\n",
    "\n",
    "import requests\n",
    "\n",
    "import numpy as np\n",
    "import matplotlib.pyplot as plt\n",
    "import seaborn as sns\n",
    "\n",
    "import haversine as hs\n",
    "\n",
    "import glob\n",
    "\n",
    "import contextily as ctx\n",
    "\n",
    "from datetime import datetime, date, time\n",
    "\n",
    "pd.set_option('display.max_columns', None)\n",
    "pd.set_option('display.max_colwidth', 1000)\n",
    "\n",
    "from convertbng.util import convert_lonlat\n",
    "\n",
    "tfont = {'fontname':'Liberation Sans Narrow', 'horizontalalignment':'left'}"
   ]
  },
  {
   "cell_type": "code",
   "execution_count": null,
   "metadata": {},
   "outputs": [],
   "source": [
    "msoa_cropped = gpd.read_file('../data/output.msoa_cropped.geojson')"
   ]
  },
  {
   "cell_type": "markdown",
   "metadata": {},
   "source": [
    "## Independent variables"
   ]
  },
  {
   "cell_type": "markdown",
   "metadata": {},
   "source": [
    "1. Demographic characteristics\n",
    "\n",
    "* resident population\n",
    "* working population\n",
    "* index of multiple deprivation\n",
    "\n",
    "2. public transport and road network\n",
    "\n",
    "* bus stops density\n",
    "* underground density\n",
    "* bike docks density (total number of bikes available) \n",
    "\n",
    "* street network centrality measures (connectivity) – average for spatial unit\n",
    "* street length\n",
    "\n",
    "3. land use/built environment/POI\n",
    "\n",
    "* offices: number of office spaces\n",
    "* shopping services: number of supermarkets, groceries etc\n",
    "* n of pubs (closed during lockdown)\n",
    "* n of restaurants & cafes\n",
    "* n of health services: clinics, surgeries\n",
    "* n of Hairdressing/Beauty Salons\n",
    "* n of Banks/Insurance/Building Society Offices & Other A2 Uses\n",
    "* n of non-commercial/community\n",
    "\n",
    "* share of vacant hereditaments\n",
    "\n",
    "\n",
    "* n of POIs/tourist attractions (OSM)\n",
    "* % of green/blue area from the total unit area\n",
    "\n",
    "\n",
    "* high street or not (boolean) or % from total area\n",
    "\n",
    "4. Environmental/weather\n",
    "\n",
    "* temperature\n",
    "* precipitation \n",
    "\n",
    "5. Fixed\n",
    "* year\n",
    "* day of week"
   ]
  },
  {
   "cell_type": "markdown",
   "metadata": {},
   "source": [
    "* resident population"
   ]
  },
  {
   "cell_type": "code",
   "execution_count": 37,
   "metadata": {},
   "outputs": [],
   "source": [
    "#GLA Housing-led Projection Results\n",
    "#2018-based projections\n",
    "# pop_url = 'https://data.london.gov.uk/download/housing-led-population-projections/a8413ae8-3d47-4199-ae94-ba1ae65dbc59/msoa_housing_led_2018_based.xlsx'\n",
    "# population = pd.read_excel(pop_url,\n",
    "#                           engine='openpyxl', sheet_name='Components of Change')\n",
    "# population = population.loc[population.year==2018, ['gss_code_msoa','msoa_name','popn']]\n",
    "# population.columns = ['MSOA11CD', 'msoa_name', 'popn']\n",
    "# population.to_csv('../data/x/msoa_population2018.csv', index=False)\n",
    "population = pd.read_csv('../data/x/msoa_population2018.csv')"
   ]
  },
  {
   "cell_type": "markdown",
   "metadata": {},
   "source": [
    "* working population"
   ]
  },
  {
   "cell_type": "code",
   "execution_count": 38,
   "metadata": {},
   "outputs": [],
   "source": [
    "# # employment data\n",
    "# # queried from: https://www.nomisweb.co.uk/\n",
    "# # All usual residents aged 16 to 74 in employment in the area the week before the census\n",
    "\n",
    "# employment = pd.read_csv('../data/3631505.csv')\n",
    "# employment = employment[employment['Area'].str.contains('msoa2011')]\n",
    "# employment['Area'] = employment['Area'].str.replace('msoa2011:', '')\n",
    "# employment.columns = ['msoa_name', 'MSOA11CD', 'employment_2011']\n",
    "# employment.to_csv('../data/x/employment.csv', index=False)\n",
    "employment = pd.read_csv('../data/x/employment.csv')"
   ]
  },
  {
   "cell_type": "markdown",
   "metadata": {},
   "source": [
    "* index of multiple deprivation"
   ]
  },
  {
   "cell_type": "code",
   "execution_count": 39,
   "metadata": {},
   "outputs": [],
   "source": [
    "# #deprivation\n",
    "\n",
    "# d = gpd.read_file('../data/English_IMD_2019/IMD_2019.shp') #shapefile from cdrc\n",
    "# depr_url = 'https://assets.publishing.service.gov.uk/government/uploads/system/uploads/attachment_data/file/845345/File_7_-_All_IoD2019_Scores__Ranks__Deciles_and_Population_Denominators_3.csv'\n",
    "\n",
    "# deprivation = pd.read_csv(depr_url)\n",
    "# deprivation.to_csv('../data/deprivation.csv', index=False)\n",
    "# deprivation = pd.read_csv('../data/deprivation.csv')\n",
    "\n",
    "# # larger – more deprived\n",
    "# deprivation = deprivation[deprivation['Local Authority District code (2019)'].str.contains('E09')]\n",
    "# deprivation = deprivation.merge(lsoa_to_msoa, how='left', left_on='LSOA code (2011)', right_on='LSOA11CD')\n",
    "# deprivation_msoa = deprivation.groupby(['MSOA11CD']\n",
    "#                    ).agg({'Index of Multiple Deprivation (IMD) Score':'mean'}).reset_index()\n",
    "# deprivation_msoa.columns = ['MSOA11CD', 'IMD2019']\n",
    "# deprivation_msoa.to_csv('../data/x/deprivation_msoa.csv', index=False)\n",
    "deprivation = pd.read_csv('../data/x/deprivation_msoa.csv')"
   ]
  },
  {
   "cell_type": "markdown",
   "metadata": {},
   "source": [
    "#### 2. Transport"
   ]
  },
  {
   "cell_type": "markdown",
   "metadata": {},
   "source": [
    "* Bus stops density"
   ]
  },
  {
   "cell_type": "code",
   "execution_count": 40,
   "metadata": {},
   "outputs": [],
   "source": [
    "# stops = gpd.read_file('../data/buses/bus_stops_locations.geojson')\n",
    "# stops = stops.to_crs('epsg:27700')\n",
    "# msoa_to_stops = gpd.sjoin(msoa, stops, how=\"inner\", op=\"contains\")\n",
    "# msoa_to_stops = msoa_to_stops.groupby(['MSOA11CD']).agg({'Stop_Code_LBSL':'count'}).reset_index()\n",
    "# msoa_to_stops.columns=['MSOA11CD','bus_stops_density']\n",
    "# msoa_to_stops.to_csv('../data/x/msoa_to_stops.csv', index=False)\n",
    "msoa_to_stops = pd.read_csv('../data/x/msoa_to_stops.csv')"
   ]
  },
  {
   "cell_type": "markdown",
   "metadata": {},
   "source": [
    "* Bike stations density"
   ]
  },
  {
   "cell_type": "code",
   "execution_count": 12,
   "metadata": {},
   "outputs": [],
   "source": [
    "# stations_gdf = gpd.read_file('../data/cycling/stations.geojson')\n",
    "# stations_gdf = stations_gdf.to_crs('epsg:27700')\n",
    "# msoa_to_stations = gpd.sjoin(msoa, stations_gdf, how=\"inner\", op=\"contains\")\n",
    "# msoa_to_stations = msoa_to_stations.groupby(['MSOA11CD']).agg({'station_id':'count'}).reset_index()\n",
    "# msoa_to_stations.columns=['MSOA11CD','bike_stations_density']\n",
    "# msoa_to_stations.to_csv('../data/x/msoa_to_stations.csv', index=False)\n",
    "msoa_to_stations = pd.read_csv('../data/x/msoa_to_stations.csv')"
   ]
  },
  {
   "cell_type": "code",
   "execution_count": 9,
   "metadata": {},
   "outputs": [],
   "source": [
    "stations_gdf = gpd.read_file('../data/cycling/stations.geojson')\n",
    "stations_gdf = stations_gdf.to_crs('epsg:27700')\n",
    "msoa_to_stations = gpd.sjoin(msoa, stations_gdf, how=\"inner\", op=\"contains\")\n",
    "msoa_to_stations = msoa_to_stations.groupby(['MSOA11CD']).agg({'station_id':'count'}).reset_index()\n",
    "msoa_to_stations.columns=['MSOA11CD','bike_stations_density']\n",
    "# msoa_to_stations.to_csv('../data/x/msoa_to_stations.csv', index=False)"
   ]
  },
  {
   "cell_type": "code",
   "execution_count": null,
   "metadata": {},
   "outputs": [],
   "source": [
    "# msoa.merge(msoa_to_stations, how='inner').plot(column='bike_stations_density', legend=True);"
   ]
  },
  {
   "cell_type": "code",
   "execution_count": 7,
   "metadata": {},
   "outputs": [
    {
     "data": {
      "text/plain": [
       "<AxesSubplot:>"
      ]
     },
     "execution_count": 7,
     "metadata": {},
     "output_type": "execute_result"
    },
    {
     "data": {
      "image/png": "[encoded data removed]",
      "text/plain": [
       "<Figure size 432x288 with 1 Axes>"
      ]
     },
     "metadata": {
      "needs_background": "light"
     },
     "output_type": "display_data"
    }
   ],
   "source": [
    "stations_gdf.plot()"
   ]
  },
  {
   "cell_type": "code",
   "execution_count": 13,
   "metadata": {},
   "outputs": [
    {
     "data": {
      "text/plain": [
       "array([[<AxesSubplot:title={'center':'bike_stations_density'}>]],\n",
       "      dtype=object)"
      ]
     },
     "execution_count": 13,
     "metadata": {},
     "output_type": "execute_result"
    },
    {
     "data": {
      "image/png": "[encoded data removed]",
      "text/plain": [
       "<Figure size 432x288 with 1 Axes>"
      ]
     },
     "metadata": {
      "needs_background": "light"
     },
     "output_type": "display_data"
    }
   ],
   "source": [
    "msoa_to_stations.hist()"
   ]
  },
  {
   "cell_type": "code",
   "execution_count": 42,
   "metadata": {},
   "outputs": [],
   "source": [
    "# tourism = gpd.read_file('../data/osm_tourism.geojson')\n",
    "# tourism = tourism[['id','name','tourism','type','geometry']]\n",
    "# tourism = tourism[tourism['tourism'].isin(['attraction','gallery','museum','viewpoint'])]\n",
    "# msoa_to_tourism = gpd.sjoin(msoa_cropped, tourism, how=\"inner\", op=\"contains\")\n",
    "# # tourism_to_msoa = gpd.sjoin(tourism, msoa_cropped, how=\"inner\", op=\"within\")\n",
    "# msoa_to_tourism = msoa_to_tourism.groupby(['MSOA11CD']).agg({'id':'count'}).reset_index()\n",
    "# msoa_to_tourism.columns=['MSOA11CD','tourism_density']\n",
    "# msoa_to_tourism.to_csv('../data/x/msoa_to_tourism.csv', index=False)\n",
    "msoa_to_tourism = pd.read_csv('../data/x/msoa_to_tourism.csv')"
   ]
  },
  {
   "cell_type": "code",
   "execution_count": 43,
   "metadata": {},
   "outputs": [],
   "source": [
    "# ldn_green_polys = gpd.read_file('../data/ldn_green_polys/ldn_green_polys.shp')\n",
    "# msoa_cropped = msoa_cropped.to_crs('epsg:27700')\n",
    "# intersected = gpd.overlay(ldn_green_polys, msoa_cropped, how='intersection')\n",
    "# intersected['area'] = intersected.geometry.area\n",
    "# msoa_greenery = intersected.groupby(by='MSOA11CD').area.sum().reset_index()\n",
    "# msoa_greenery.columns = ['MSOA11CD', 'green_area']\n",
    "# msoa_greenery.to_csv('../data/x/msoa_greenery.csv', index=False)\n",
    "msoa_greenery = pd.read_csv('../data/x/msoa_greenery.csv')"
   ]
  },
  {
   "cell_type": "code",
   "execution_count": 44,
   "metadata": {},
   "outputs": [],
   "source": [
    "# hs_path = '../data/retail/os_high_street_201903/geojson/great_britain/high_street_201903_building_geom.geojson'\n",
    "# hs_buildings_polys = gpd.read_file(hs_path)\n",
    "# hs_buildings_polys = hs_buildings_polys.to_crs('epsg:27700')\n",
    "# intersected = gpd.overlay(hs_buildings_polys, msoa_cropped, how='intersection')\n",
    "# intersected['area'] = intersected.geometry.area\n",
    "# msoa_hs_area = intersected.groupby(by='MSOA11CD').area.sum().reset_index()\n",
    "# msoa_hs_area.columns = ['MSOA11CD', 'hs_building_area']\n",
    "# msoa_hs_area.to_csv('../data/x/msoa_hs_area.csv', index=False)\n",
    "msoa_hs_area = pd.read_csv('../data/x/msoa_hs_area.csv')"
   ]
  },
  {
   "cell_type": "code",
   "execution_count": 79,
   "metadata": {},
   "outputs": [],
   "source": []
  },
  {
   "cell_type": "markdown",
   "metadata": {},
   "source": [
    "### Combine into one dataset"
   ]
  },
  {
   "cell_type": "code",
   "execution_count": 29,
   "metadata": {},
   "outputs": [],
   "source": [
    "msoa_cropped_df = msoa_cropped[['MSOA11CD', 'MSOA11NM', 'LAD11CD', 'LAD11NM']]"
   ]
  },
  {
   "cell_type": "code",
   "execution_count": 32,
   "metadata": {},
   "outputs": [
    {
     "data": {
      "text/html": [
       "<div>\n",
       "<style scoped>\n",
       "    .dataframe tbody tr th:only-of-type {\n",
       "        vertical-align: middle;\n",
       "    }\n",
       "\n",
       "    .dataframe tbody tr th {\n",
       "        vertical-align: top;\n",
       "    }\n",
       "\n",
       "    .dataframe thead th {\n",
       "        text-align: right;\n",
       "    }\n",
       "</style>\n",
       "<table border=\"1\" class=\"dataframe\">\n",
       "  <thead>\n",
       "    <tr style=\"text-align: right;\">\n",
       "      <th></th>\n",
       "      <th>MSOA11CD</th>\n",
       "      <th>arrivals201905</th>\n",
       "    </tr>\n",
       "  </thead>\n",
       "  <tbody>\n",
       "    <tr>\n",
       "      <th>0</th>\n",
       "      <td>E02000001</td>\n",
       "      <td>67631</td>\n",
       "    </tr>\n",
       "    <tr>\n",
       "      <th>1</th>\n",
       "      <td>E02000183</td>\n",
       "      <td>2932</td>\n",
       "    </tr>\n",
       "    <tr>\n",
       "      <th>2</th>\n",
       "      <td>E02000184</td>\n",
       "      <td>4035</td>\n",
       "    </tr>\n",
       "    <tr>\n",
       "      <th>3</th>\n",
       "      <td>E02000186</td>\n",
       "      <td>4954</td>\n",
       "    </tr>\n",
       "    <tr>\n",
       "      <th>4</th>\n",
       "      <td>E02000187</td>\n",
       "      <td>5338</td>\n",
       "    </tr>\n",
       "    <tr>\n",
       "      <th>...</th>\n",
       "      <td>...</td>\n",
       "      <td>...</td>\n",
       "    </tr>\n",
       "    <tr>\n",
       "      <th>144</th>\n",
       "      <td>E02000983</td>\n",
       "      <td>4009</td>\n",
       "    </tr>\n",
       "    <tr>\n",
       "      <th>145</th>\n",
       "      <td>E02006801</td>\n",
       "      <td>23565</td>\n",
       "    </tr>\n",
       "    <tr>\n",
       "      <th>146</th>\n",
       "      <td>E02006802</td>\n",
       "      <td>5790</td>\n",
       "    </tr>\n",
       "    <tr>\n",
       "      <th>147</th>\n",
       "      <td>E02006853</td>\n",
       "      <td>1103</td>\n",
       "    </tr>\n",
       "    <tr>\n",
       "      <th>148</th>\n",
       "      <td>E02006854</td>\n",
       "      <td>6544</td>\n",
       "    </tr>\n",
       "  </tbody>\n",
       "</table>\n",
       "<p>149 rows × 2 columns</p>\n",
       "</div>"
      ],
      "text/plain": [
       "      MSOA11CD  arrivals201905\n",
       "0    E02000001           67631\n",
       "1    E02000183            2932\n",
       "2    E02000184            4035\n",
       "3    E02000186            4954\n",
       "4    E02000187            5338\n",
       "..         ...             ...\n",
       "144  E02000983            4009\n",
       "145  E02006801           23565\n",
       "146  E02006802            5790\n",
       "147  E02006853            1103\n",
       "148  E02006854            6544\n",
       "\n",
       "[149 rows x 2 columns]"
      ]
     },
     "execution_count": 32,
     "metadata": {},
     "output_type": "execute_result"
    }
   ],
   "source": [
    "msoa201905"
   ]
  },
  {
   "cell_type": "code",
   "execution_count": 34,
   "metadata": {},
   "outputs": [],
   "source": [
    "msoa_final = msoa_cropped_df.merge(msoa201905, how='left'\n",
    "                                  ).merge(msoa202005, how='left'\n",
    "                                         ).merge(msoa202105, how='left')\n",
    "# msoa_final['arrivals201905'] = msoa_final['arrivals201905'].fillna(1)"
   ]
  },
  {
   "cell_type": "code",
   "execution_count": 45,
   "metadata": {},
   "outputs": [],
   "source": [
    "msoa_final = msoa_final.merge(population, how='left').merge(employment, how='left'\n",
    "                ).merge(deprivation, how='left').merge(msoa_to_stops, how='left').merge(msoa_to_stations, how='left')"
   ]
  },
  {
   "cell_type": "code",
   "execution_count": 46,
   "metadata": {},
   "outputs": [],
   "source": [
    "msoa_to_network = pd.read_csv('../data/x/msoa_to_network.csv')\n",
    "msoa_final = msoa_final.merge(msoa_to_network, how='left')\n",
    "msoa_final['street_density'] = msoa_final['street_density']*100"
   ]
  },
  {
   "cell_type": "code",
   "execution_count": 47,
   "metadata": {},
   "outputs": [],
   "source": [
    "msoa_final = msoa_final.merge(msoa_greenery, how='left').merge(msoa_to_tourism, how='left'\n",
    "                                                              ).merge(msoa_hs_area, how='left')"
   ]
  },
  {
   "cell_type": "code",
   "execution_count": 48,
   "metadata": {},
   "outputs": [
    {
     "data": {
      "text/plain": [
       "(154, 19)"
      ]
     },
     "execution_count": 48,
     "metadata": {},
     "output_type": "execute_result"
    }
   ],
   "source": [
    "msoa_final.shape"
   ]
  },
  {
   "cell_type": "code",
   "execution_count": null,
   "metadata": {},
   "outputs": [],
   "source": [
    "msoa_final = msoa_final[['MSOA11CD', 'popn',\n",
    "       'employment_2011', 'IMD2019', 'street_length', 'median_ebc',\n",
    "       'msoa_area', 'street_density', 'green_area', 'tourism_density',\n",
    "       'hs_building_area']]"
   ]
  },
  {
   "cell_type": "code",
   "execution_count": null,
   "metadata": {},
   "outputs": [],
   "source": [
    "msoa_final.columns = ['MSOA11CD', 'MSOA11NM', 'LAD11CD', 'LAD11NM', 'msoa_name', 'population', 'msoa_code',\n",
    "       'employment', 'deprivation', 'street_length', 'median_ebc',\n",
    "       'msoa_area', 'street_density', 'green_area', 'tourism_density',\n",
    "       'hs_building_area']"
   ]
  },
  {
   "cell_type": "code",
   "execution_count": 15,
   "metadata": {},
   "outputs": [],
   "source": [
    "# msoa_final.to_csv('../data/final_df_msoa.csv', index=False)\n",
    "msoa_final = pd.read_csv('../data/final_df_msoa.csv')"
   ]
  },
  {
   "cell_type": "code",
   "execution_count": 1,
   "metadata": {},
   "outputs": [],
   "source": [
    "msoa_to_categories202103 = pd.read_csv('msoa_to_categories202103.csv')\n",
    "msoa_to_categories202003 = pd.read_csv('msoa_to_categories202003.csv')\n",
    "msoa_to_categories201903 = pd.read_csv('msoa_to_categories201903.csv')\n",
    "msoa_to_categories202006 = pd.read_csv('msoa_to_categories202006.csv')\n",
    "msoa_to_categories201906 = pd.read_csv('msoa_to_categories201906.csv')"
   ]
  },
  {
   "cell_type": "code",
   "execution_count": null,
   "metadata": {},
   "outputs": [],
   "source": []
  }
 ],
 "metadata": {
  "kernelspec": {
   "display_name": "Python 3",
   "language": "python",
   "name": "python3"
  },
  "language_info": {
   "codemirror_mode": {
    "name": "ipython",
    "version": 3
   },
   "file_extension": ".py",
   "mimetype": "text/x-python",
   "name": "python",
   "nbconvert_exporter": "python",
   "pygments_lexer": "ipython3",
   "version": "3.7.10"
  }
 },
 "nbformat": 4,
 "nbformat_minor": 4
}
