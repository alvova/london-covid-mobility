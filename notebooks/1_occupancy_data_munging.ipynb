{
 "cells": [
  {
   "cell_type": "code",
   "execution_count": 1,
   "metadata": {},
   "outputs": [],
   "source": [
    "import pandas as pd\n",
    "\n",
    "import numpy as np\n",
    "import geopandas as gpd\n",
    "\n",
    "import matplotlib.pyplot as plt\n",
    "import seaborn as sns\n",
    "\n",
    "import glob\n",
    "\n",
    "# from pylab import rcParams\n",
    "# sns.set(style='whitegrid', palette='muted', font_scale=1.5)\n",
    "# rcParams['figure.figsize'] = 8, 6\n",
    "\n",
    "# import contextily as ctx\n",
    "\n",
    "# !pip install xlrd==1.2.0\n",
    "# !pip install convertbng\n",
    "# from convertbng.util import convert_lonlat\n",
    "\n",
    "pd.set_option('display.max_columns', None)\n",
    "\n",
    "# import folium"
   ]
  },
  {
   "cell_type": "code",
   "execution_count": 14,
   "metadata": {},
   "outputs": [],
   "source": [
    "London = gpd.read_file('../data/london_general/London_boundaries.geojson')\n",
    "lsoa = gpd.read_file('../data/london_general/statistical-gis-boundaries-london/ESRI/LSOA_2011_London_gen_MHW.shp')\n",
    "msoa = gpd.read_file('../data/london_general/statistical-gis-boundaries-london/ESRI/MSOA_2011_London_gen_MHW.shp')"
   ]
  },
  {
   "cell_type": "code",
   "execution_count": 23,
   "metadata": {},
   "outputs": [],
   "source": [
    "# # https://geoportal.statistics.gov.uk/datasets/national-statistics-postcode-lookup-august-2021/about\n",
    "# postcodes = pd.read_csv('../data/NSPL_AUG_2021_UK/Data/NSPL_AUG_2021_UK.csv',\n",
    "#                         low_memory=False)\n",
    "# # filter postcodes in London\n",
    "# postcodes = postcodes[postcodes['laua'].str.contains('E09', na=False)]\n",
    "# postcodes = postcodes[['pcd2', 'oa11', 'lsoa11', 'msoa11', 'wz11', 'lat', 'long']]\n",
    "# postcodes.to_csv('../data/london_general/london_postcodes.csv', index=False)\n",
    "postcodes = pd.read_csv('../data/london_general/london_postcodes.csv')\n",
    "postcodes = postcodes[['pcd2', 'msoa11', 'lat', 'long']]"
   ]
  },
  {
   "cell_type": "markdown",
   "metadata": {},
   "source": [
    "### 0. Check what data is missing in the 'non-publishing' authorities like Westminster or Islington?"
   ]
  },
  {
   "cell_type": "markdown",
   "metadata": {},
   "source": [
    "Islington is non-publishng, Camden is publishing –> check differences"
   ]
  },
  {
   "cell_type": "code",
   "execution_count": 6,
   "metadata": {},
   "outputs": [],
   "source": [
    "i = pd.read_csv('../data/retail/Whythawk/new_merged_reports/2021-03-E09000019-islington-location-report.csv')"
   ]
  },
  {
   "cell_type": "code",
   "execution_count": 7,
   "metadata": {},
   "outputs": [
    {
     "data": {
      "text/html": [
       "<div>\n",
       "<style scoped>\n",
       "    .dataframe tbody tr th:only-of-type {\n",
       "        vertical-align: middle;\n",
       "    }\n",
       "\n",
       "    .dataframe tbody tr th {\n",
       "        vertical-align: top;\n",
       "    }\n",
       "\n",
       "    .dataframe thead th {\n",
       "        text-align: right;\n",
       "    }\n",
       "</style>\n",
       "<table border=\"1\" class=\"dataframe\">\n",
       "  <thead>\n",
       "    <tr style=\"text-align: right;\">\n",
       "      <th></th>\n",
       "      <th>rates_code</th>\n",
       "      <th>rates_authority_id</th>\n",
       "      <th>rates_authority</th>\n",
       "      <th>region</th>\n",
       "      <th>location_code</th>\n",
       "      <th>address_no</th>\n",
       "      <th>address_street</th>\n",
       "      <th>address_town</th>\n",
       "      <th>pc__pcs</th>\n",
       "      <th>use_category</th>\n",
       "      <th>scat_code</th>\n",
       "      <th>sub_category</th>\n",
       "      <th>category</th>\n",
       "      <th>floor_area</th>\n",
       "      <th>rental_valuation</th>\n",
       "      <th>valuation_date</th>\n",
       "      <th>revaluation_year</th>\n",
       "      <th>period</th>\n",
       "      <th>rates_expected</th>\n",
       "      <th>name</th>\n",
       "      <th>rates_paid</th>\n",
       "      <th>status</th>\n",
       "      <th>status_duration</th>\n",
       "      <th>status_date</th>\n",
       "      <th>ratepayers_published</th>\n",
       "    </tr>\n",
       "  </thead>\n",
       "  <tbody>\n",
       "    <tr>\n",
       "      <th>0</th>\n",
       "      <td>NaN</td>\n",
       "      <td>E09000019</td>\n",
       "      <td>Islington</td>\n",
       "      <td>Inner London - East</td>\n",
       "      <td>11530103000</td>\n",
       "      <td>PT GND &amp; PT LGND FLRS 36</td>\n",
       "      <td>CHANCERY LANE</td>\n",
       "      <td>LONDON</td>\n",
       "      <td>EC2A 1EN</td>\n",
       "      <td>Shops</td>\n",
       "      <td>249</td>\n",
       "      <td>Retail High Street</td>\n",
       "      <td>Retail</td>\n",
       "      <td>258.09</td>\n",
       "      <td>124000.0</td>\n",
       "      <td>2017-12-19 00:00:00+00:00</td>\n",
       "      <td>2017</td>\n",
       "      <td>2021-03</td>\n",
       "      <td>63488.0</td>\n",
       "      <td>NaN</td>\n",
       "      <td>NaN</td>\n",
       "      <td>1.0</td>\n",
       "      <td>NaN</td>\n",
       "      <td>2017-12-19</td>\n",
       "      <td>False</td>\n",
       "    </tr>\n",
       "    <tr>\n",
       "      <th>1</th>\n",
       "      <td>NaN</td>\n",
       "      <td>E09000019</td>\n",
       "      <td>Islington</td>\n",
       "      <td>Inner London - East</td>\n",
       "      <td>11811304000</td>\n",
       "      <td>LGND FLR 28</td>\n",
       "      <td>CHANCERY LANE</td>\n",
       "      <td>LONDON</td>\n",
       "      <td>EC2A 1LB</td>\n",
       "      <td>Offices (Inc Computer Centres)</td>\n",
       "      <td>203</td>\n",
       "      <td>Office General</td>\n",
       "      <td>Office</td>\n",
       "      <td>547.00</td>\n",
       "      <td>220000.0</td>\n",
       "      <td>2018-01-22 00:00:00+00:00</td>\n",
       "      <td>2017</td>\n",
       "      <td>2021-03</td>\n",
       "      <td>112640.0</td>\n",
       "      <td>NaN</td>\n",
       "      <td>NaN</td>\n",
       "      <td>1.0</td>\n",
       "      <td>NaN</td>\n",
       "      <td>2018-01-22</td>\n",
       "      <td>False</td>\n",
       "    </tr>\n",
       "  </tbody>\n",
       "</table>\n",
       "</div>"
      ],
      "text/plain": [
       "   rates_code rates_authority_id rates_authority               region  \\\n",
       "0         NaN          E09000019       Islington  Inner London - East   \n",
       "1         NaN          E09000019       Islington  Inner London - East   \n",
       "\n",
       "   location_code                address_no address_street address_town  \\\n",
       "0    11530103000  PT GND & PT LGND FLRS 36  CHANCERY LANE       LONDON   \n",
       "1    11811304000               LGND FLR 28  CHANCERY LANE       LONDON   \n",
       "\n",
       "    pc__pcs                    use_category  scat_code        sub_category  \\\n",
       "0  EC2A 1EN                           Shops        249  Retail High Street   \n",
       "1  EC2A 1LB  Offices (Inc Computer Centres)        203      Office General   \n",
       "\n",
       "  category  floor_area  rental_valuation             valuation_date  \\\n",
       "0   Retail      258.09          124000.0  2017-12-19 00:00:00+00:00   \n",
       "1   Office      547.00          220000.0  2018-01-22 00:00:00+00:00   \n",
       "\n",
       "   revaluation_year   period  rates_expected  name  rates_paid  status  \\\n",
       "0              2017  2021-03         63488.0   NaN         NaN     1.0   \n",
       "1              2017  2021-03        112640.0   NaN         NaN     1.0   \n",
       "\n",
       "   status_duration status_date  ratepayers_published  \n",
       "0              NaN  2017-12-19                 False  \n",
       "1              NaN  2018-01-22                 False  "
      ]
     },
     "execution_count": 7,
     "metadata": {},
     "output_type": "execute_result"
    }
   ],
   "source": [
    "i.head(2)"
   ]
  },
  {
   "cell_type": "code",
   "execution_count": 8,
   "metadata": {},
   "outputs": [],
   "source": [
    "c = pd.read_csv('../data/retail/Whythawk/new_merged_reports/2021-03-E09000007-camden-location-report.csv')"
   ]
  },
  {
   "cell_type": "code",
   "execution_count": 9,
   "metadata": {},
   "outputs": [
    {
     "data": {
      "text/html": [
       "<div>\n",
       "<style scoped>\n",
       "    .dataframe tbody tr th:only-of-type {\n",
       "        vertical-align: middle;\n",
       "    }\n",
       "\n",
       "    .dataframe tbody tr th {\n",
       "        vertical-align: top;\n",
       "    }\n",
       "\n",
       "    .dataframe thead th {\n",
       "        text-align: right;\n",
       "    }\n",
       "</style>\n",
       "<table border=\"1\" class=\"dataframe\">\n",
       "  <thead>\n",
       "    <tr style=\"text-align: right;\">\n",
       "      <th></th>\n",
       "      <th>rates_code</th>\n",
       "      <th>rates_authority_id</th>\n",
       "      <th>rates_authority</th>\n",
       "      <th>region</th>\n",
       "      <th>location_code</th>\n",
       "      <th>address_no</th>\n",
       "      <th>address_street</th>\n",
       "      <th>address_town</th>\n",
       "      <th>pc__pcs</th>\n",
       "      <th>use_category</th>\n",
       "      <th>scat_code</th>\n",
       "      <th>sub_category</th>\n",
       "      <th>category</th>\n",
       "      <th>floor_area</th>\n",
       "      <th>rental_valuation</th>\n",
       "      <th>valuation_date</th>\n",
       "      <th>revaluation_year</th>\n",
       "      <th>period</th>\n",
       "      <th>rates_expected</th>\n",
       "      <th>name</th>\n",
       "      <th>rates_paid</th>\n",
       "      <th>status</th>\n",
       "      <th>status_date</th>\n",
       "      <th>status_duration</th>\n",
       "      <th>ratepayers_published</th>\n",
       "    </tr>\n",
       "  </thead>\n",
       "  <tbody>\n",
       "    <tr>\n",
       "      <th>0</th>\n",
       "      <td>00000012905006</td>\n",
       "      <td>E09000007</td>\n",
       "      <td>Camden</td>\n",
       "      <td>Inner London - West</td>\n",
       "      <td>97305063</td>\n",
       "      <td>QUEENS HEAD &amp; ARTICHOKE 30-32</td>\n",
       "      <td>ALBANY STREET</td>\n",
       "      <td>LONDON</td>\n",
       "      <td>NW1 4EA</td>\n",
       "      <td>Public Houses/Pub Restaurants (National Scheme)</td>\n",
       "      <td>226</td>\n",
       "      <td>Retail Restaurants &amp; Cafes</td>\n",
       "      <td>Retail</td>\n",
       "      <td>210.583902</td>\n",
       "      <td>100000.0</td>\n",
       "      <td>2017-04-01 00:00:00+00:00</td>\n",
       "      <td>2017</td>\n",
       "      <td>2021-03</td>\n",
       "      <td>51200.0</td>\n",
       "      <td>ARTICHOKE HEART LTD</td>\n",
       "      <td>8901.0</td>\n",
       "      <td>True</td>\n",
       "      <td>2010-04-01</td>\n",
       "      <td>4018.0</td>\n",
       "      <td>True</td>\n",
       "    </tr>\n",
       "    <tr>\n",
       "      <th>1</th>\n",
       "      <td>00000020101013</td>\n",
       "      <td>E09000007</td>\n",
       "      <td>Camden</td>\n",
       "      <td>Inner London - West</td>\n",
       "      <td>3574848000</td>\n",
       "      <td>213</td>\n",
       "      <td>EVERSHOLT STREET</td>\n",
       "      <td>LONDON</td>\n",
       "      <td>NW1 1DE</td>\n",
       "      <td>Shops</td>\n",
       "      <td>249</td>\n",
       "      <td>Retail High Street</td>\n",
       "      <td>Retail</td>\n",
       "      <td>52.000000</td>\n",
       "      <td>5300.0</td>\n",
       "      <td>2017-04-01 00:00:00+00:00</td>\n",
       "      <td>2017</td>\n",
       "      <td>2021-03</td>\n",
       "      <td>2644.7</td>\n",
       "      <td>ZAD FOUNDATION</td>\n",
       "      <td>0.0</td>\n",
       "      <td>True</td>\n",
       "      <td>2016-10-05</td>\n",
       "      <td>1639.0</td>\n",
       "      <td>True</td>\n",
       "    </tr>\n",
       "  </tbody>\n",
       "</table>\n",
       "</div>"
      ],
      "text/plain": [
       "       rates_code rates_authority_id rates_authority               region  \\\n",
       "0  00000012905006          E09000007          Camden  Inner London - West   \n",
       "1  00000020101013          E09000007          Camden  Inner London - West   \n",
       "\n",
       "   location_code                     address_no    address_street  \\\n",
       "0       97305063  QUEENS HEAD & ARTICHOKE 30-32     ALBANY STREET   \n",
       "1     3574848000                            213  EVERSHOLT STREET   \n",
       "\n",
       "  address_town  pc__pcs                                     use_category  \\\n",
       "0       LONDON  NW1 4EA  Public Houses/Pub Restaurants (National Scheme)   \n",
       "1       LONDON  NW1 1DE                                            Shops   \n",
       "\n",
       "   scat_code                sub_category category  floor_area  \\\n",
       "0        226  Retail Restaurants & Cafes   Retail  210.583902   \n",
       "1        249          Retail High Street   Retail   52.000000   \n",
       "\n",
       "   rental_valuation             valuation_date  revaluation_year   period  \\\n",
       "0          100000.0  2017-04-01 00:00:00+00:00              2017  2021-03   \n",
       "1            5300.0  2017-04-01 00:00:00+00:00              2017  2021-03   \n",
       "\n",
       "   rates_expected                 name  rates_paid  status status_date  \\\n",
       "0         51200.0  ARTICHOKE HEART LTD      8901.0    True  2010-04-01   \n",
       "1          2644.7       ZAD FOUNDATION         0.0    True  2016-10-05   \n",
       "\n",
       "   status_duration  ratepayers_published  \n",
       "0           4018.0                  True  \n",
       "1           1639.0                  True  "
      ]
     },
     "execution_count": 9,
     "metadata": {},
     "output_type": "execute_result"
    }
   ],
   "source": [
    "c.head(2)"
   ]
  },
  {
   "cell_type": "code",
   "execution_count": 10,
   "metadata": {},
   "outputs": [
    {
     "data": {
      "text/plain": [
       "rates_code              13708\n",
       "rates_authority_id          0\n",
       "rates_authority             0\n",
       "region                      0\n",
       "location_code               0\n",
       "address_no                  0\n",
       "address_street             32\n",
       "address_town                0\n",
       "pc__pcs                     0\n",
       "use_category                0\n",
       "scat_code                   0\n",
       "sub_category                0\n",
       "category                  976\n",
       "floor_area                  0\n",
       "rental_valuation            0\n",
       "valuation_date              0\n",
       "revaluation_year            0\n",
       "period                      0\n",
       "rates_expected              0\n",
       "name                    13708\n",
       "rates_paid              13708\n",
       "status                      0\n",
       "status_duration         13708\n",
       "status_date                 0\n",
       "ratepayers_published        0\n",
       "dtype: int64"
      ]
     },
     "execution_count": 10,
     "metadata": {},
     "output_type": "execute_result"
    }
   ],
   "source": [
    "i.isna().sum()"
   ]
  },
  {
   "cell_type": "code",
   "execution_count": 11,
   "metadata": {},
   "outputs": [
    {
     "data": {
      "text/plain": [
       "rates_code                 0\n",
       "rates_authority_id         0\n",
       "rates_authority            0\n",
       "region                     0\n",
       "location_code              0\n",
       "address_no                 2\n",
       "address_street             0\n",
       "address_town               0\n",
       "pc__pcs                    0\n",
       "use_category               0\n",
       "scat_code                  0\n",
       "sub_category               0\n",
       "category                1458\n",
       "floor_area                 0\n",
       "rental_valuation           0\n",
       "valuation_date             0\n",
       "revaluation_year           0\n",
       "period                     0\n",
       "rates_expected             0\n",
       "name                    2316\n",
       "rates_paid              2474\n",
       "status                     0\n",
       "status_date                0\n",
       "status_duration         2314\n",
       "ratepayers_published       0\n",
       "dtype: int64"
      ]
     },
     "execution_count": 11,
     "metadata": {},
     "output_type": "execute_result"
    }
   ],
   "source": [
    "c.isna().sum()"
   ]
  },
  {
   "cell_type": "code",
   "execution_count": 13,
   "metadata": {},
   "outputs": [
    {
     "data": {
      "text/plain": [
       "1.0    13708\n",
       "Name: status, dtype: int64"
      ]
     },
     "execution_count": 13,
     "metadata": {},
     "output_type": "execute_result"
    }
   ],
   "source": [
    "i.status.value_counts()"
   ]
  },
  {
   "cell_type": "code",
   "execution_count": 12,
   "metadata": {},
   "outputs": [
    {
     "data": {
      "text/plain": [
       "True     14358\n",
       "False     3028\n",
       "Name: status, dtype: int64"
      ]
     },
     "execution_count": 12,
     "metadata": {},
     "output_type": "execute_result"
    }
   ],
   "source": [
    "c.status.value_counts()"
   ]
  },
  {
   "cell_type": "markdown",
   "metadata": {},
   "source": [
    "Non-publishing authorities do not publish information about ratepayers including the following columns: rates_code, name, rates_paid, status_duration"
   ]
  },
  {
   "cell_type": "markdown",
   "metadata": {},
   "source": [
    "### Map publishing authorities"
   ]
  },
  {
   "cell_type": "code",
   "execution_count": 9,
   "metadata": {},
   "outputs": [],
   "source": [
    "msoa_cropped = gpd.read_file('../data/output.msoa_cropped.geojson')"
   ]
  },
  {
   "cell_type": "code",
   "execution_count": 10,
   "metadata": {},
   "outputs": [],
   "source": [
    "files = glob.glob('../data/retail/Whythawk/new_merged_reports/2021-03*')\n",
    "\n",
    "df = pd.concat(map(pd.read_csv, files))\n",
    "\n",
    "whythawk_boroughs = df[['rates_authority_id','status']].groupby(['rates_authority_id']).nunique().reset_index()"
   ]
  },
  {
   "cell_type": "code",
   "execution_count": 15,
   "metadata": {},
   "outputs": [],
   "source": [
    "whythawk_boroughs_gdf = London[['lad15cd','lad15nm','geometry']].merge(whythawk_boroughs, how='inner', left_on='lad15cd', right_on='rates_authority_id')"
   ]
  },
  {
   "cell_type": "code",
   "execution_count": 16,
   "metadata": {},
   "outputs": [
    {
     "data": {
      "text/plain": [
       "<AxesSubplot:>"
      ]
     },
     "execution_count": 16,
     "metadata": {},
     "output_type": "execute_result"
    },
    {
     "data": {
      "image/png": "[encoded data removed]",
      "text/plain": [
       "<Figure size 720x576 with 1 Axes>"
      ]
     },
     "metadata": {
      "needs_background": "light"
     },
     "output_type": "display_data"
    }
   ],
   "source": [
    "fig, ax = plt.subplots(figsize=(10,8))\n",
    "\n",
    "London.plot(ax=ax, color='white', edgecolor='grey', alpha=0.8)\n",
    "whythawk_boroughs_gdf[whythawk_boroughs_gdf.status==2].plot(ax=ax, color='pink', edgecolor='white');\n",
    "msoa_cropped = msoa_cropped.to_crs(whythawk_boroughs_gdf.crs)\n",
    "msoa_cropped.plot(ax=ax, color='cyan', alpha=0.5)"
   ]
  },
  {
   "cell_type": "markdown",
   "metadata": {},
   "source": [
    "Map above shows if borough has occupancy data. Pink means it has, white (empty) means it doesn't.  \n",
    "Cyan is the study area with mobility data"
   ]
  },
  {
   "cell_type": "code",
   "execution_count": 17,
   "metadata": {},
   "outputs": [
    {
     "data": {
      "text/plain": [
       "2    27\n",
       "1     6\n",
       "Name: status, dtype: int64"
      ]
     },
     "execution_count": 17,
     "metadata": {},
     "output_type": "execute_result"
    }
   ],
   "source": [
    "whythawk_boroughs_gdf.status.value_counts()"
   ]
  },
  {
   "cell_type": "code",
   "execution_count": 18,
   "metadata": {},
   "outputs": [
    {
     "data": {
      "text/html": [
       "<div>\n",
       "<style scoped>\n",
       "    .dataframe tbody tr th:only-of-type {\n",
       "        vertical-align: middle;\n",
       "    }\n",
       "\n",
       "    .dataframe tbody tr th {\n",
       "        vertical-align: top;\n",
       "    }\n",
       "\n",
       "    .dataframe thead th {\n",
       "        text-align: right;\n",
       "    }\n",
       "</style>\n",
       "<table border=\"1\" class=\"dataframe\">\n",
       "  <thead>\n",
       "    <tr style=\"text-align: right;\">\n",
       "      <th></th>\n",
       "      <th>lad15cd</th>\n",
       "      <th>lad15nm</th>\n",
       "      <th>geometry</th>\n",
       "      <th>rates_authority_id</th>\n",
       "      <th>status</th>\n",
       "    </tr>\n",
       "  </thead>\n",
       "  <tbody>\n",
       "    <tr>\n",
       "      <th>9</th>\n",
       "      <td>E09000010</td>\n",
       "      <td>Enfield</td>\n",
       "      <td>POLYGON ((-0.09686 51.69055, -0.09723 51.69061...</td>\n",
       "      <td>E09000010</td>\n",
       "      <td>1</td>\n",
       "    </tr>\n",
       "    <tr>\n",
       "      <th>11</th>\n",
       "      <td>E09000012</td>\n",
       "      <td>Hackney</td>\n",
       "      <td>POLYGON ((-0.05998 51.57542, -0.06006 51.57560...</td>\n",
       "      <td>E09000012</td>\n",
       "      <td>1</td>\n",
       "    </tr>\n",
       "    <tr>\n",
       "      <th>18</th>\n",
       "      <td>E09000019</td>\n",
       "      <td>Islington</td>\n",
       "      <td>POLYGON ((-0.11921 51.57500, -0.11937 51.57526...</td>\n",
       "      <td>E09000019</td>\n",
       "      <td>1</td>\n",
       "    </tr>\n",
       "    <tr>\n",
       "      <th>23</th>\n",
       "      <td>E09000024</td>\n",
       "      <td>Merton</td>\n",
       "      <td>POLYGON ((-0.19005 51.44080, -0.19004 51.44099...</td>\n",
       "      <td>E09000024</td>\n",
       "      <td>1</td>\n",
       "    </tr>\n",
       "    <tr>\n",
       "      <th>24</th>\n",
       "      <td>E09000025</td>\n",
       "      <td>Newham</td>\n",
       "      <td>POLYGON ((0.05636 51.55858, 0.05633 51.55859, ...</td>\n",
       "      <td>E09000025</td>\n",
       "      <td>1</td>\n",
       "    </tr>\n",
       "    <tr>\n",
       "      <th>32</th>\n",
       "      <td>E09000033</td>\n",
       "      <td>Westminster</td>\n",
       "      <td>POLYGON ((-0.17401 51.53804, -0.17407 51.53811...</td>\n",
       "      <td>E09000033</td>\n",
       "      <td>1</td>\n",
       "    </tr>\n",
       "  </tbody>\n",
       "</table>\n",
       "</div>"
      ],
      "text/plain": [
       "      lad15cd      lad15nm                                           geometry  \\\n",
       "9   E09000010      Enfield  POLYGON ((-0.09686 51.69055, -0.09723 51.69061...   \n",
       "11  E09000012      Hackney  POLYGON ((-0.05998 51.57542, -0.06006 51.57560...   \n",
       "18  E09000019    Islington  POLYGON ((-0.11921 51.57500, -0.11937 51.57526...   \n",
       "23  E09000024       Merton  POLYGON ((-0.19005 51.44080, -0.19004 51.44099...   \n",
       "24  E09000025       Newham  POLYGON ((0.05636 51.55858, 0.05633 51.55859, ...   \n",
       "32  E09000033  Westminster  POLYGON ((-0.17401 51.53804, -0.17407 51.53811...   \n",
       "\n",
       "   rates_authority_id  status  \n",
       "9           E09000010       1  \n",
       "11          E09000012       1  \n",
       "18          E09000019       1  \n",
       "23          E09000024       1  \n",
       "24          E09000025       1  \n",
       "32          E09000033       1  "
      ]
     },
     "execution_count": 18,
     "metadata": {},
     "output_type": "execute_result"
    }
   ],
   "source": [
    "whythawk_boroughs_gdf[whythawk_boroughs_gdf.status==1]"
   ]
  },
  {
   "cell_type": "markdown",
   "metadata": {},
   "source": [
    "While occupancy data is important, it narrows down the study area way too much.  \n",
    "Might leave it for discussion only"
   ]
  },
  {
   "cell_type": "code",
   "execution_count": 19,
   "metadata": {},
   "outputs": [],
   "source": [
    "intersected_boroughs = gpd.sjoin(whythawk_boroughs_gdf, msoa_cropped, how=\"inner\", op=\"contains\")\n",
    "intersected_boroughs_list = (list(intersected_boroughs['lad15cd'].unique()))\n",
    "# for some reason sjoin fails to get Newham and City of London even though they clearly have some msoa_cropped within\n",
    "intersected_boroughs_list.append('E09000025')\n",
    "intersected_boroughs_list.append('E09000001')"
   ]
  },
  {
   "cell_type": "code",
   "execution_count": 20,
   "metadata": {},
   "outputs": [
    {
     "data": {
      "text/plain": [
       "12"
      ]
     },
     "execution_count": 20,
     "metadata": {},
     "output_type": "execute_result"
    }
   ],
   "source": [
    "len(intersected_boroughs_list)"
   ]
  },
  {
   "cell_type": "code",
   "execution_count": 21,
   "metadata": {},
   "outputs": [
    {
     "data": {
      "text/plain": [
       "['E09000007',\n",
       " 'E09000012',\n",
       " 'E09000013',\n",
       " 'E09000019',\n",
       " 'E09000020',\n",
       " 'E09000022',\n",
       " 'E09000028',\n",
       " 'E09000030',\n",
       " 'E09000032',\n",
       " 'E09000033',\n",
       " 'E09000025',\n",
       " 'E09000001']"
      ]
     },
     "execution_count": 21,
     "metadata": {},
     "output_type": "execute_result"
    }
   ],
   "source": [
    "intersected_boroughs_list"
   ]
  },
  {
   "cell_type": "code",
   "execution_count": 160,
   "metadata": {},
   "outputs": [
    {
     "data": {
      "image/png": "[encoded data removed]",
      "text/plain": [
       "<Figure size 576x432 with 1 Axes>"
      ]
     },
     "metadata": {
      "needs_background": "light"
     },
     "output_type": "display_data"
    }
   ],
   "source": [
    "fig, ax = plt.subplots(figsize=(8,6))\n",
    "\n",
    "London.plot(ax=ax, color='white', edgecolor='grey', alpha=0.8)\n",
    "whythawk_boroughs_gdf[whythawk_boroughs_gdf['rates_authority_id'].isin(intersected_boroughs_list)].plot(ax=ax, color='pink', alpha=0.5);\n",
    "msoa_cropped.plot(ax=ax, color='cyan', alpha=0.5)\n",
    "ax.set_axis_off();"
   ]
  },
  {
   "cell_type": "code",
   "execution_count": 126,
   "metadata": {},
   "outputs": [
    {
     "data": {
      "text/plain": [
       "['E09000007',\n",
       " 'E09000012',\n",
       " 'E09000013',\n",
       " 'E09000019',\n",
       " 'E09000020',\n",
       " 'E09000022',\n",
       " 'E09000028',\n",
       " 'E09000030',\n",
       " 'E09000032',\n",
       " 'E09000033',\n",
       " 'E09000025']"
      ]
     },
     "execution_count": 126,
     "metadata": {},
     "output_type": "execute_result"
    }
   ],
   "source": [
    "intersected_boroughs_list"
   ]
  },
  {
   "cell_type": "markdown",
   "metadata": {},
   "source": [
    "### Check categories and subcategories in the dataset"
   ]
  },
  {
   "cell_type": "code",
   "execution_count": 22,
   "metadata": {},
   "outputs": [],
   "source": [
    "df = c.copy()"
   ]
  },
  {
   "cell_type": "code",
   "execution_count": 60,
   "metadata": {},
   "outputs": [
    {
     "data": {
      "text/plain": [
       "4"
      ]
     },
     "execution_count": 60,
     "metadata": {},
     "output_type": "execute_result"
    }
   ],
   "source": [
    "df.category.nunique()"
   ]
  },
  {
   "cell_type": "code",
   "execution_count": 61,
   "metadata": {},
   "outputs": [
    {
     "data": {
      "text/plain": [
       "Office        76178\n",
       "Retail        53403\n",
       "Industrial    12326\n",
       "Leisure        2243\n",
       "Name: category, dtype: int64"
      ]
     },
     "execution_count": 61,
     "metadata": {},
     "output_type": "execute_result"
    }
   ],
   "source": [
    "df.category.value_counts()"
   ]
  },
  {
   "cell_type": "code",
   "execution_count": 62,
   "metadata": {},
   "outputs": [
    {
     "data": {
      "text/plain": [
       "23"
      ]
     },
     "execution_count": 62,
     "metadata": {},
     "output_type": "execute_result"
    }
   ],
   "source": [
    "df.sub_category.nunique()"
   ]
  },
  {
   "cell_type": "code",
   "execution_count": 63,
   "metadata": {},
   "outputs": [
    {
     "data": {
      "text/plain": [
       "Office General                                 75532\n",
       "Retail High Street                             42417\n",
       "Other Public                                   11141\n",
       "Industrial General                             10932\n",
       "Retail Restaurants & Cafes                      8499\n",
       "Other Commercial                                2678\n",
       "Retail Other Superstores/ Retail Warehouses     1497\n",
       "Retail Financial & Professional Services         882\n",
       "Warehousing  Large Scale and High Bay            756\n",
       "Leisure Sports centres and Private Clubs         708\n",
       "Leisure General Hotels (3 star)                  643\n",
       "Industrial Light                                 578\n",
       "Office IT / Data Centres                         394\n",
       "Leisure Amusement & Entertainment Centres        382\n",
       "Leisure Budget Hotels                            289\n",
       "Name: sub_category, dtype: int64"
      ]
     },
     "execution_count": 63,
     "metadata": {},
     "output_type": "execute_result"
    }
   ],
   "source": [
    "df.sub_category.value_counts().head(15)"
   ]
  },
  {
   "cell_type": "code",
   "execution_count": 51,
   "metadata": {},
   "outputs": [
    {
     "data": {
      "text/plain": [
       "220"
      ]
     },
     "execution_count": 51,
     "metadata": {},
     "output_type": "execute_result"
    }
   ],
   "source": [
    "df.use_category.nunique()"
   ]
  },
  {
   "cell_type": "code",
   "execution_count": 52,
   "metadata": {},
   "outputs": [
    {
     "data": {
      "text/plain": [
       "Offices (Inc Computer Centres)                                   70878\n",
       "Shops                                                            35208\n",
       "Factories, Workshops and Warehouses (Incl Bakeries & Dairies)    10841\n",
       "Stores                                                            5042\n",
       "Restaurants                                                       4826\n",
       "Business Units                                                    3583\n",
       "Communication Stations (National Scheme)                          3158\n",
       "Advertising Right                                                 2442\n",
       "Public Houses/Pub Restaurants (National Scheme)                   1930\n",
       "Surgeries, Clinics, Health Centres (Rental Valuation)             1556\n",
       "Cafes                                                             1495\n",
       "Car Spaces                                                        1479\n",
       "Showrooms                                                          995\n",
       "Community Day Centres                                              989\n",
       "Sales Kiosks                                                       870\n",
       "Name: use_category, dtype: int64"
      ]
     },
     "execution_count": 52,
     "metadata": {},
     "output_type": "execute_result"
    }
   ],
   "source": [
    "df.use_category.value_counts().head(15)"
   ]
  },
  {
   "cell_type": "markdown",
   "metadata": {},
   "source": [
    "#### look deeper into categories\n",
    "#### offices"
   ]
  },
  {
   "cell_type": "code",
   "execution_count": 64,
   "metadata": {},
   "outputs": [
    {
     "data": {
      "text/plain": [
       "Office General              75532\n",
       "Office IT / Data Centres      394\n",
       "Office Serviced Office        236\n",
       "Office Business Park           16\n",
       "Name: sub_category, dtype: int64"
      ]
     },
     "execution_count": 64,
     "metadata": {},
     "output_type": "execute_result"
    }
   ],
   "source": [
    "df[df.category=='Office']['sub_category'].value_counts()"
   ]
  },
  {
   "cell_type": "code",
   "execution_count": 65,
   "metadata": {},
   "outputs": [
    {
     "data": {
      "text/plain": [
       "Offices (Inc Computer Centres)                          70878\n",
       "Business Units                                           3583\n",
       "Day Nurseries/Play Schools                                627\n",
       "Studios                                                   313\n",
       "Computer Centres (Purpose Built)                          156\n",
       "Universities (Excluding Oxbridge) (National Scheme)       155\n",
       "Colleges of Further Education (National Scheme)           152\n",
       "Recording Studios                                          81\n",
       "Offices Within/Part of Specialist Property                 62\n",
       "Training Centre (Non Residential)                          52\n",
       "Offices (Headquarters/Institutional)                       39\n",
       "Educational Miscellaneous                                  23\n",
       "Sales Offices                                              20\n",
       "Laboratories                                               16\n",
       "Computer Centres (Non-Purpose Built)                       10\n",
       "Nurseries/Creches Within/Part of Specialist Property        8\n",
       "Boathouses                                                  2\n",
       "Training Centre (Residential)                               1\n",
       "Name: use_category, dtype: int64"
      ]
     },
     "execution_count": 65,
     "metadata": {},
     "output_type": "execute_result"
    }
   ],
   "source": [
    "df[df.category=='Office']['use_category'].value_counts()"
   ]
  },
  {
   "cell_type": "markdown",
   "metadata": {},
   "source": [
    "#### retail"
   ]
  },
  {
   "cell_type": "code",
   "execution_count": 69,
   "metadata": {},
   "outputs": [
    {
     "data": {
      "text/plain": [
       "Retail High Street                             42417\n",
       "Retail Restaurants & Cafes                      8499\n",
       "Retail Other Superstores/ Retail Warehouses     1497\n",
       "Retail Financial & Professional Services         882\n",
       "Retail Food Superstores                          108\n",
       "Name: sub_category, dtype: int64"
      ]
     },
     "execution_count": 69,
     "metadata": {},
     "output_type": "execute_result"
    }
   ],
   "source": [
    "df[df.category=='Retail']['sub_category'].value_counts()"
   ]
  },
  {
   "cell_type": "code",
   "execution_count": 237,
   "metadata": {},
   "outputs": [
    {
     "data": {
      "text/plain": [
       "Restaurants                                                     5165\n",
       "Public Houses/Pub Restaurants (National Scheme)                 2081\n",
       "Cafes                                                           1542\n",
       "Wine Bars                                                        191\n",
       "Takeaway Food Outlet (Predominantly Off Premises)                 40\n",
       "Cafes/Restaurants Within/Part of Specialist Property              37\n",
       "Drive-Thru Restaurants                                            19\n",
       "Drive-In Restaurants                                              10\n",
       "Food Courts                                                        4\n",
       "Public Houses/Pub Restaurants (Inc. Lodge) (National Scheme)       4\n",
       "Roadside Restaurants (National Scheme)                             2\n",
       "Coaching Inns                                                      1\n",
       "Name: use_category, dtype: int64"
      ]
     },
     "execution_count": 237,
     "metadata": {},
     "output_type": "execute_result"
    }
   ],
   "source": [
    "df[df.sub_category=='Retail High Street']['use_category'].value_counts()"
   ]
  },
  {
   "cell_type": "code",
   "execution_count": 70,
   "metadata": {},
   "outputs": [
    {
     "data": {
      "text/plain": [
       "Shops                                                           35208\n",
       "Stores                                                           5042\n",
       "Restaurants                                                      4826\n",
       "Public Houses/Pub Restaurants (National Scheme)                  1930\n",
       "Cafes                                                            1495\n",
       "Showrooms                                                         995\n",
       "Sales Kiosks                                                      870\n",
       "Hairdressing/Beauty Salons                                        662\n",
       "Banks/Insurance/Building Society Offices & Other A2 Uses          473\n",
       "Betting Offices                                                   409\n",
       "Pitches for Stalls, Sales or Promotions                           142\n",
       "Wine Bars                                                         132\n",
       "Retail Warehouses and Foodstores                                  115\n",
       "Public Telephone Kiosks (National Scheme)                         113\n",
       "Food Stores                                                       108\n",
       "Large Shops (Over 1850m^2)                                        107\n",
       "Post Offices                                                       87\n",
       "Hypermarkets/Superstores (over 2500m^2)                            78\n",
       "Large Food Stores (750 - 2500m^2)                                  76\n",
       "Shops Within/Part of Specialist Property                           68\n",
       "Pharmacies                                                         63\n",
       "Kiosks Within/Part of Specialist Property                          57\n",
       "Markets (Other Than Livestock)                                     47\n",
       "Car Showrooms                                                      43\n",
       "Takeaway Food Outlet (Predominantly Off Premises)                  40\n",
       "Cafes/Restaurants Within/Part of Specialist Property               37\n",
       "Car/Caravan Sales/Display/Hiring Sites                             32\n",
       "Drive-Thru Restaurants                                             19\n",
       "Garden Centres                                                     18\n",
       "Large Shops (750 - 1850m^2)                                        18\n",
       "Departmental and Walk Round Stores (Large)                         15\n",
       "Stores Within/Part of Specialist Property                          14\n",
       "Veterinary Clinics / Animal Clinics                                14\n",
       "Pharmacies Within/Adjacent to Surgery/Health Centre                11\n",
       "Drive-In Restaurants                                               10\n",
       "Auction Rooms                                                      10\n",
       "Photographic Booths                                                 5\n",
       "Food Courts                                                         4\n",
       "Public Houses/Pub Restaurants (Inc. Lodge) (National Scheme)        3\n",
       "Land Used for Display                                               3\n",
       "Roadside Restaurants (National Scheme)                              2\n",
       "Coaching Inns                                                       1\n",
       "Factory Shops                                                       1\n",
       "Name: use_category, dtype: int64"
      ]
     },
     "execution_count": 70,
     "metadata": {},
     "output_type": "execute_result"
    }
   ],
   "source": [
    "df[df.category=='Retail']['use_category'].value_counts()"
   ]
  },
  {
   "cell_type": "code",
   "execution_count": 71,
   "metadata": {},
   "outputs": [
    {
     "data": {
      "text/plain": [
       "Showrooms                                     995\n",
       "Retail Warehouses and Foodstores              115\n",
       "Large Shops (Over 1850m^2)                    107\n",
       "Hypermarkets/Superstores (over 2500m^2)        78\n",
       "Large Food Stores (750 - 2500m^2)              76\n",
       "Car Showrooms                                  43\n",
       "Car/Caravan Sales/Display/Hiring Sites         32\n",
       "Garden Centres                                 18\n",
       "Large Shops (750 - 1850m^2)                    18\n",
       "Departmental and Walk Round Stores (Large)     15\n",
       "Name: use_category, dtype: int64"
      ]
     },
     "execution_count": 71,
     "metadata": {},
     "output_type": "execute_result"
    }
   ],
   "source": [
    "df[df.sub_category=='Retail Other Superstores/ Retail Warehouses']['use_category'].value_counts()"
   ]
  },
  {
   "cell_type": "code",
   "execution_count": 72,
   "metadata": {},
   "outputs": [
    {
     "data": {
      "text/plain": [
       "Food Stores    108\n",
       "Name: use_category, dtype: int64"
      ]
     },
     "execution_count": 72,
     "metadata": {},
     "output_type": "execute_result"
    }
   ],
   "source": [
    "df[df.sub_category=='Retail Food Superstores']['use_category'].value_counts()"
   ]
  },
  {
   "cell_type": "markdown",
   "metadata": {},
   "source": [
    "#### industrial"
   ]
  },
  {
   "cell_type": "code",
   "execution_count": 73,
   "metadata": {},
   "outputs": [
    {
     "data": {
      "text/plain": [
       "Industrial General                       10932\n",
       "Warehousing  Large Scale and High Bay      756\n",
       "Industrial Light                           578\n",
       "Warehouse & Distribution                    60\n",
       "Name: sub_category, dtype: int64"
      ]
     },
     "execution_count": 73,
     "metadata": {},
     "output_type": "execute_result"
    }
   ],
   "source": [
    "df[df.category=='Industrial']['sub_category'].value_counts()"
   ]
  },
  {
   "cell_type": "markdown",
   "metadata": {},
   "source": [
    "#### leisure"
   ]
  },
  {
   "cell_type": "code",
   "execution_count": 74,
   "metadata": {},
   "outputs": [
    {
     "data": {
      "text/plain": [
       "Leisure Sports centres and Private Clubs     708\n",
       "Leisure General Hotels (3 star)              643\n",
       "Leisure Amusement & Entertainment Centres    382\n",
       "Leisure Budget Hotels                        289\n",
       "Leisure Periodic Use                         132\n",
       "Leisure Cultural Attractions                  87\n",
       "Leisure 4/ 5 Star Hotels                       2\n",
       "Name: sub_category, dtype: int64"
      ]
     },
     "execution_count": 74,
     "metadata": {},
     "output_type": "execute_result"
    }
   ],
   "source": [
    "df[df.category=='Leisure']['sub_category'].value_counts()"
   ]
  },
  {
   "cell_type": "code",
   "execution_count": 28,
   "metadata": {},
   "outputs": [
    {
     "data": {
      "text/plain": [
       "rates_code                 0\n",
       "rates_authority_id         0\n",
       "rates_authority            0\n",
       "region                     0\n",
       "location_code              0\n",
       "address_no                 2\n",
       "address_street             0\n",
       "address_town               0\n",
       "pc__pcs                    0\n",
       "use_category               0\n",
       "scat_code                  0\n",
       "sub_category               0\n",
       "category                1458\n",
       "floor_area                 0\n",
       "rental_valuation           0\n",
       "valuation_date             0\n",
       "revaluation_year           0\n",
       "period                     0\n",
       "rates_expected             0\n",
       "name                    2316\n",
       "rates_paid              2474\n",
       "status                     0\n",
       "status_date                0\n",
       "status_duration         2314\n",
       "ratepayers_published       0\n",
       "dtype: int64"
      ]
     },
     "execution_count": 28,
     "metadata": {},
     "output_type": "execute_result"
    }
   ],
   "source": [
    "df.isna().sum()"
   ]
  },
  {
   "cell_type": "code",
   "execution_count": 30,
   "metadata": {},
   "outputs": [
    {
     "data": {
      "text/html": [
       "<div>\n",
       "<style scoped>\n",
       "    .dataframe tbody tr th:only-of-type {\n",
       "        vertical-align: middle;\n",
       "    }\n",
       "\n",
       "    .dataframe tbody tr th {\n",
       "        vertical-align: top;\n",
       "    }\n",
       "\n",
       "    .dataframe thead th {\n",
       "        text-align: right;\n",
       "    }\n",
       "</style>\n",
       "<table border=\"1\" class=\"dataframe\">\n",
       "  <thead>\n",
       "    <tr style=\"text-align: right;\">\n",
       "      <th></th>\n",
       "      <th>rates_code</th>\n",
       "      <th>rates_authority_id</th>\n",
       "      <th>rates_authority</th>\n",
       "      <th>region</th>\n",
       "      <th>location_code</th>\n",
       "      <th>address_no</th>\n",
       "      <th>address_street</th>\n",
       "      <th>address_town</th>\n",
       "      <th>pc__pcs</th>\n",
       "      <th>use_category</th>\n",
       "      <th>scat_code</th>\n",
       "      <th>sub_category</th>\n",
       "      <th>category</th>\n",
       "      <th>floor_area</th>\n",
       "      <th>rental_valuation</th>\n",
       "      <th>valuation_date</th>\n",
       "      <th>revaluation_year</th>\n",
       "      <th>period</th>\n",
       "      <th>rates_expected</th>\n",
       "      <th>name</th>\n",
       "      <th>rates_paid</th>\n",
       "      <th>status</th>\n",
       "      <th>status_date</th>\n",
       "      <th>status_duration</th>\n",
       "      <th>ratepayers_published</th>\n",
       "    </tr>\n",
       "  </thead>\n",
       "  <tbody>\n",
       "    <tr>\n",
       "      <th>1224</th>\n",
       "      <td>00233000110015</td>\n",
       "      <td>E09000007</td>\n",
       "      <td>Camden</td>\n",
       "      <td>Inner London - West</td>\n",
       "      <td>11947063</td>\n",
       "      <td>1</td>\n",
       "      <td>BRECKNOCK ROAD</td>\n",
       "      <td>LONDON</td>\n",
       "      <td>N7 0BL</td>\n",
       "      <td>Restaurants</td>\n",
       "      <td>234</td>\n",
       "      <td>Retail Restaurants &amp; Cafes</td>\n",
       "      <td>Retail</td>\n",
       "      <td>72.16</td>\n",
       "      <td>15750.0</td>\n",
       "      <td>2017-04-01 00:00:00+00:00</td>\n",
       "      <td>2017</td>\n",
       "      <td>2021-03</td>\n",
       "      <td>7859.25</td>\n",
       "      <td>NEWQUEST PROPERTIES LTD</td>\n",
       "      <td>0.00</td>\n",
       "      <td>False</td>\n",
       "      <td>2012-02-10</td>\n",
       "      <td>3338.0</td>\n",
       "      <td>True</td>\n",
       "    </tr>\n",
       "    <tr>\n",
       "      <th>1225</th>\n",
       "      <td>0023300030000B</td>\n",
       "      <td>E09000007</td>\n",
       "      <td>Camden</td>\n",
       "      <td>Inner London - West</td>\n",
       "      <td>11957063</td>\n",
       "      <td>3</td>\n",
       "      <td>BRECKNOCK ROAD</td>\n",
       "      <td>LONDON</td>\n",
       "      <td>N7 0BL</td>\n",
       "      <td>Shops</td>\n",
       "      <td>249</td>\n",
       "      <td>Retail High Street</td>\n",
       "      <td>Retail</td>\n",
       "      <td>94.38</td>\n",
       "      <td>17500.0</td>\n",
       "      <td>2017-04-01 00:00:00+00:00</td>\n",
       "      <td>2017</td>\n",
       "      <td>2021-03</td>\n",
       "      <td>8732.50</td>\n",
       "      <td>EL-GAMAL &amp; CO LIMITED</td>\n",
       "      <td>0.00</td>\n",
       "      <td>False</td>\n",
       "      <td>2014-11-07</td>\n",
       "      <td>2337.0</td>\n",
       "      <td>True</td>\n",
       "    </tr>\n",
       "    <tr>\n",
       "      <th>1226</th>\n",
       "      <td>00233000500017</td>\n",
       "      <td>E09000007</td>\n",
       "      <td>Camden</td>\n",
       "      <td>Inner London - West</td>\n",
       "      <td>182729063</td>\n",
       "      <td>GND F 5</td>\n",
       "      <td>BRECKNOCK ROAD</td>\n",
       "      <td>LONDON</td>\n",
       "      <td>N7 0BL</td>\n",
       "      <td>Shops</td>\n",
       "      <td>249</td>\n",
       "      <td>Retail High Street</td>\n",
       "      <td>Retail</td>\n",
       "      <td>70.60</td>\n",
       "      <td>14500.0</td>\n",
       "      <td>2017-04-01 00:00:00+00:00</td>\n",
       "      <td>2017</td>\n",
       "      <td>2021-03</td>\n",
       "      <td>7235.50</td>\n",
       "      <td>NEWQUEST PROPERTIES LTD</td>\n",
       "      <td>0.00</td>\n",
       "      <td>False</td>\n",
       "      <td>2014-08-01</td>\n",
       "      <td>2435.0</td>\n",
       "      <td>True</td>\n",
       "    </tr>\n",
       "    <tr>\n",
       "      <th>1227</th>\n",
       "      <td>0023300071001B</td>\n",
       "      <td>E09000007</td>\n",
       "      <td>Camden</td>\n",
       "      <td>Inner London - West</td>\n",
       "      <td>98394063</td>\n",
       "      <td>GND F 7</td>\n",
       "      <td>BRECKNOCK ROAD</td>\n",
       "      <td>LONDON</td>\n",
       "      <td>N7 0BL</td>\n",
       "      <td>Shops</td>\n",
       "      <td>249</td>\n",
       "      <td>Retail High Street</td>\n",
       "      <td>Retail</td>\n",
       "      <td>48.60</td>\n",
       "      <td>10250.0</td>\n",
       "      <td>2017-04-01 00:00:00+00:00</td>\n",
       "      <td>2017</td>\n",
       "      <td>2021-03</td>\n",
       "      <td>5114.75</td>\n",
       "      <td>NaN</td>\n",
       "      <td>NaN</td>\n",
       "      <td>True</td>\n",
       "      <td>2017-04-01</td>\n",
       "      <td>NaN</td>\n",
       "      <td>True</td>\n",
       "    </tr>\n",
       "    <tr>\n",
       "      <th>1228</th>\n",
       "      <td>00233000910012</td>\n",
       "      <td>E09000007</td>\n",
       "      <td>Camden</td>\n",
       "      <td>Inner London - West</td>\n",
       "      <td>98395063</td>\n",
       "      <td>GND F 9</td>\n",
       "      <td>BRECKNOCK ROAD</td>\n",
       "      <td>LONDON</td>\n",
       "      <td>N7 0BL</td>\n",
       "      <td>Shops</td>\n",
       "      <td>249</td>\n",
       "      <td>Retail High Street</td>\n",
       "      <td>Retail</td>\n",
       "      <td>55.60</td>\n",
       "      <td>13500.0</td>\n",
       "      <td>2017-04-01 00:00:00+00:00</td>\n",
       "      <td>2017</td>\n",
       "      <td>2021-03</td>\n",
       "      <td>6736.50</td>\n",
       "      <td>KNIGHT FRANK LLP</td>\n",
       "      <td>4875.47</td>\n",
       "      <td>True</td>\n",
       "      <td>2014-11-10</td>\n",
       "      <td>2334.0</td>\n",
       "      <td>True</td>\n",
       "    </tr>\n",
       "  </tbody>\n",
       "</table>\n",
       "</div>"
      ],
      "text/plain": [
       "          rates_code rates_authority_id rates_authority               region  \\\n",
       "1224  00233000110015          E09000007          Camden  Inner London - West   \n",
       "1225  0023300030000B          E09000007          Camden  Inner London - West   \n",
       "1226  00233000500017          E09000007          Camden  Inner London - West   \n",
       "1227  0023300071001B          E09000007          Camden  Inner London - West   \n",
       "1228  00233000910012          E09000007          Camden  Inner London - West   \n",
       "\n",
       "      location_code address_no  address_street address_town pc__pcs  \\\n",
       "1224       11947063          1  BRECKNOCK ROAD       LONDON  N7 0BL   \n",
       "1225       11957063          3  BRECKNOCK ROAD       LONDON  N7 0BL   \n",
       "1226      182729063    GND F 5  BRECKNOCK ROAD       LONDON  N7 0BL   \n",
       "1227       98394063    GND F 7  BRECKNOCK ROAD       LONDON  N7 0BL   \n",
       "1228       98395063    GND F 9  BRECKNOCK ROAD       LONDON  N7 0BL   \n",
       "\n",
       "     use_category  scat_code                sub_category category  floor_area  \\\n",
       "1224  Restaurants        234  Retail Restaurants & Cafes   Retail       72.16   \n",
       "1225        Shops        249          Retail High Street   Retail       94.38   \n",
       "1226        Shops        249          Retail High Street   Retail       70.60   \n",
       "1227        Shops        249          Retail High Street   Retail       48.60   \n",
       "1228        Shops        249          Retail High Street   Retail       55.60   \n",
       "\n",
       "      rental_valuation             valuation_date  revaluation_year   period  \\\n",
       "1224           15750.0  2017-04-01 00:00:00+00:00              2017  2021-03   \n",
       "1225           17500.0  2017-04-01 00:00:00+00:00              2017  2021-03   \n",
       "1226           14500.0  2017-04-01 00:00:00+00:00              2017  2021-03   \n",
       "1227           10250.0  2017-04-01 00:00:00+00:00              2017  2021-03   \n",
       "1228           13500.0  2017-04-01 00:00:00+00:00              2017  2021-03   \n",
       "\n",
       "      rates_expected                     name  rates_paid  status status_date  \\\n",
       "1224         7859.25  NEWQUEST PROPERTIES LTD        0.00   False  2012-02-10   \n",
       "1225         8732.50    EL-GAMAL & CO LIMITED        0.00   False  2014-11-07   \n",
       "1226         7235.50  NEWQUEST PROPERTIES LTD        0.00   False  2014-08-01   \n",
       "1227         5114.75                      NaN         NaN    True  2017-04-01   \n",
       "1228         6736.50         KNIGHT FRANK LLP     4875.47    True  2014-11-10   \n",
       "\n",
       "      status_duration  ratepayers_published  \n",
       "1224           3338.0                  True  \n",
       "1225           2337.0                  True  \n",
       "1226           2435.0                  True  \n",
       "1227              NaN                  True  \n",
       "1228           2334.0                  True  "
      ]
     },
     "execution_count": 30,
     "metadata": {},
     "output_type": "execute_result"
    }
   ],
   "source": [
    "df[df.address_street.str.contains('BRECKNOCK')].head()"
   ]
  },
  {
   "cell_type": "code",
   "execution_count": 32,
   "metadata": {},
   "outputs": [
    {
     "data": {
      "text/plain": [
       "FINCHLEY ROAD            181\n",
       "CAMDEN HIGH STREET       165\n",
       "KENTISH TOWN ROAD        148\n",
       "WEST END LANE            114\n",
       "KILBURN HIGH ROAD        112\n",
       "TOTTENHAM COURT ROAD     110\n",
       "HIGH HOLBORN             106\n",
       "EUSTON ROAD               80\n",
       "GRAYS INN ROAD            79\n",
       "HATTON GARDEN             78\n",
       "QUEENS CRESCENT           64\n",
       "FORTESS ROAD              63\n",
       "HEATH STREET              62\n",
       "PANCRAS ROAD              62\n",
       "MILL LANE                 55\n",
       "CHALK FARM ROAD           54\n",
       "HAMPSTEAD HIGH STREET     54\n",
       "HAVERSTOCK HILL           53\n",
       "EVERSHOLT STREET          52\n",
       "LEATHER LANE              52\n",
       "Name: address_street, dtype: int64"
      ]
     },
     "execution_count": 32,
     "metadata": {},
     "output_type": "execute_result"
    }
   ],
   "source": [
    "df[df.sub_category=='Retail High Street']['address_street'].value_counts().head(20)"
   ]
  },
  {
   "cell_type": "code",
   "execution_count": 33,
   "metadata": {},
   "outputs": [
    {
     "data": {
      "text/plain": [
       "True     61\n",
       "False    22\n",
       "Name: status, dtype: int64"
      ]
     },
     "execution_count": 33,
     "metadata": {},
     "output_type": "execute_result"
    }
   ],
   "source": [
    "df[df.address_street=='QUEENS CRESCENT'].status.value_counts()"
   ]
  },
  {
   "cell_type": "markdown",
   "metadata": {},
   "source": [
    "#### see how occupancy changes in Camden with time"
   ]
  },
  {
   "cell_type": "code",
   "execution_count": 76,
   "metadata": {},
   "outputs": [],
   "source": [
    "files = glob.glob('../data/retail/Whythawk/new_merged_reports/*camden*')\n",
    "\n",
    "df = pd.concat(map(pd.read_csv, files))"
   ]
  },
  {
   "cell_type": "code",
   "execution_count": 77,
   "metadata": {},
   "outputs": [
    {
     "name": "stdout",
     "output_type": "stream",
     "text": [
      "(566018, 25)\n"
     ]
    }
   ],
   "source": [
    "print(df.shape)"
   ]
  },
  {
   "cell_type": "code",
   "execution_count": 78,
   "metadata": {},
   "outputs": [
    {
     "name": "stdout",
     "output_type": "stream",
     "text": [
      "(566018, 25)\n"
     ]
    }
   ],
   "source": [
    "# df_sample = df[(df.address_street=='QUEENS CRESCENT')&(df.category=='Retail')]\n",
    "df_sample = df[(df.category=='Retail')]\n",
    "print(df.shape)"
   ]
  },
  {
   "cell_type": "code",
   "execution_count": 81,
   "metadata": {},
   "outputs": [
    {
     "data": {
      "text/html": [
       "<div>\n",
       "<style scoped>\n",
       "    .dataframe tbody tr th:only-of-type {\n",
       "        vertical-align: middle;\n",
       "    }\n",
       "\n",
       "    .dataframe tbody tr th {\n",
       "        vertical-align: top;\n",
       "    }\n",
       "\n",
       "    .dataframe thead th {\n",
       "        text-align: right;\n",
       "    }\n",
       "</style>\n",
       "<table border=\"1\" class=\"dataframe\">\n",
       "  <thead>\n",
       "    <tr style=\"text-align: right;\">\n",
       "      <th></th>\n",
       "      <th>q</th>\n",
       "      <th>count</th>\n",
       "    </tr>\n",
       "  </thead>\n",
       "  <tbody>\n",
       "    <tr>\n",
       "      <th>43</th>\n",
       "      <td>2010-06</td>\n",
       "      <td>3555</td>\n",
       "    </tr>\n",
       "    <tr>\n",
       "      <th>42</th>\n",
       "      <td>2010-09</td>\n",
       "      <td>3597</td>\n",
       "    </tr>\n",
       "    <tr>\n",
       "      <th>41</th>\n",
       "      <td>2010-12</td>\n",
       "      <td>3644</td>\n",
       "    </tr>\n",
       "    <tr>\n",
       "      <th>40</th>\n",
       "      <td>2011-03</td>\n",
       "      <td>3685</td>\n",
       "    </tr>\n",
       "    <tr>\n",
       "      <th>39</th>\n",
       "      <td>2011-06</td>\n",
       "      <td>3723</td>\n",
       "    </tr>\n",
       "  </tbody>\n",
       "</table>\n",
       "</div>"
      ],
      "text/plain": [
       "          q  count\n",
       "43  2010-06   3555\n",
       "42  2010-09   3597\n",
       "41  2010-12   3644\n",
       "40  2011-03   3685\n",
       "39  2011-06   3723"
      ]
     },
     "execution_count": 81,
     "metadata": {},
     "output_type": "execute_result"
    }
   ],
   "source": [
    "periods = df_sample.period.value_counts().reset_index().sort_values(by='index')\n",
    "periods.columns=['q', 'count']\n",
    "periods.index = pd.to_datetime(periods['q'].values, infer_datetime_format=True)"
   ]
  },
  {
   "cell_type": "code",
   "execution_count": 85,
   "metadata": {},
   "outputs": [],
   "source": [
    "periods_occ = df_sample[df_sample['status']==True].period.value_counts().reset_index().sort_values(by='index')\n",
    "periods_occ.columns=['q', 'count']\n",
    "periods_occ.index = pd.to_datetime(periods_occ['q'].values, infer_datetime_format=True)"
   ]
  },
  {
   "cell_type": "code",
   "execution_count": 86,
   "metadata": {},
   "outputs": [],
   "source": [
    "periods_vac = df_sample[df_sample['status']==False].period.value_counts().reset_index().sort_values(by='index')\n",
    "periods_vac.columns=['q', 'count']\n",
    "periods_vac.index = pd.to_datetime(periods_vac['q'].values, infer_datetime_format=True)"
   ]
  },
  {
   "cell_type": "code",
   "execution_count": 87,
   "metadata": {},
   "outputs": [
    {
     "data": {
      "text/plain": [
       "<AxesSubplot:>"
      ]
     },
     "execution_count": 87,
     "metadata": {},
     "output_type": "execute_result"
    },
    {
     "data": {
      "image/png": "[encoded data removed]",
      "text/plain": [
       "<Figure size 720x288 with 1 Axes>"
      ]
     },
     "metadata": {
      "needs_background": "light"
     },
     "output_type": "display_data"
    }
   ],
   "source": [
    "fig, ax = plt.subplots(figsize=(10,4))\n",
    "periods.plot(ax=ax, color='blue')\n",
    "periods_occ.plot(ax=ax, color='green')\n",
    "periods_vac.plot(ax=ax, color='red')"
   ]
  },
  {
   "cell_type": "markdown",
   "metadata": {},
   "source": [
    "### Join with postcodes to get coordinates"
   ]
  },
  {
   "cell_type": "code",
   "execution_count": 2,
   "metadata": {},
   "outputs": [],
   "source": [
    "files = glob.glob('../data/retail/Whythawk/new_merged_reports/2021-03*')\n",
    "df = pd.concat(map(pd.read_csv, files))"
   ]
  },
  {
   "cell_type": "code",
   "execution_count": 162,
   "metadata": {},
   "outputs": [],
   "source": [
    "# filter boroughs that intersect study area\n",
    "df = df[df['rates_authority_id'].isin(intersected_boroughs_list)]"
   ]
  },
  {
   "cell_type": "code",
   "execution_count": 163,
   "metadata": {},
   "outputs": [
    {
     "data": {
      "text/plain": [
       "(181172, 25)"
      ]
     },
     "execution_count": 163,
     "metadata": {},
     "output_type": "execute_result"
    }
   ],
   "source": [
    "df.shape"
   ]
  },
  {
   "cell_type": "code",
   "execution_count": 24,
   "metadata": {},
   "outputs": [],
   "source": [
    "#remove spaces from postcode\n",
    "df['pc__pcs'] = df['pc__pcs'].str.replace(\" \", \"\")\n",
    "postcodes['pcd2'] = postcodes['pcd2'].str.replace(\" \", \"\")\n",
    "postcodes_cropped = postcodes[postcodes.msoa11.isin(list(msoa_cropped['MSOA11CD']))]"
   ]
  },
  {
   "cell_type": "code",
   "execution_count": 165,
   "metadata": {},
   "outputs": [],
   "source": [
    "df_cropped = df.merge(postcodes_cropped, how='inner', left_on='pc__pcs', right_on='pcd2')"
   ]
  },
  {
   "cell_type": "code",
   "execution_count": 166,
   "metadata": {},
   "outputs": [
    {
     "name": "stdout",
     "output_type": "stream",
     "text": [
      "(146370, 29)\n"
     ]
    },
    {
     "data": {
      "text/plain": [
       "rates_code              56351\n",
       "rates_authority_id          0\n",
       "rates_authority             0\n",
       "region                      0\n",
       "location_code               0\n",
       "address_no                  9\n",
       "address_street            141\n",
       "address_town                0\n",
       "pc__pcs                     0\n",
       "use_category                0\n",
       "scat_code                   0\n",
       "sub_category                0\n",
       "category                10776\n",
       "floor_area                  0\n",
       "rental_valuation            0\n",
       "valuation_date              0\n",
       "revaluation_year            0\n",
       "period                      0\n",
       "rates_expected              0\n",
       "name                    71967\n",
       "rates_paid              81938\n",
       "status                      0\n",
       "status_date                 0\n",
       "status_duration         69005\n",
       "ratepayers_published        0\n",
       "pcd2                        0\n",
       "msoa11                      0\n",
       "lat                         0\n",
       "long                        0\n",
       "dtype: int64"
      ]
     },
     "execution_count": 166,
     "metadata": {},
     "output_type": "execute_result"
    }
   ],
   "source": [
    "print(df_cropped.shape)\n",
    "df_cropped.isna().sum()"
   ]
  },
  {
   "cell_type": "code",
   "execution_count": 167,
   "metadata": {},
   "outputs": [
    {
     "data": {
      "text/plain": [
       "sub_category          use_category                                              \n",
       "Other Public          Communication Stations (National Scheme)                      2780\n",
       "Other Commercial      Car Spaces                                                    1740\n",
       "Other Public          Advertising Right                                             1578\n",
       "                      Surgeries, Clinics, Health Centres (Rental Valuation)         1200\n",
       "Other Commercial      Miscellaneous                                                  553\n",
       "Other Public          Community Day Centres                                          536\n",
       "                      Local Authority Schools (National Scheme)                      385\n",
       "                      Garages (Transport and Commercial)                             230\n",
       "Other Commercial      Clubs & Institutions                                           218\n",
       "Other Public          Public and Independent Schools (National Scheme)               207\n",
       "Other Commercial      Telecommunications Cable Networks (National Scheme)            158\n",
       "Other Public          Electricity Undertakings (Non-Statutory)                       135\n",
       "                      Surgeries, Clinics, Health Centres (Contractors Valuation)     125\n",
       "                      Contractors Huts & Compounds                                   124\n",
       "                      Public Conveniences (National Scheme)                           82\n",
       "                      Libraries                                                       70\n",
       "                      Museums and Art Galleries (Contractors)                         60\n",
       "Other Commercial      Commercial Miscellaneous                                        54\n",
       "                      Moorings (Floating Hereditaments)                               50\n",
       "Other Public          Public Halls                                                    45\n",
       "                      Police Stations                                                 44\n",
       "                      Hospitals & Clinics NHS (National Scheme)                       44\n",
       "Other Commercial      ATMs                                                            43\n",
       "Other Public          Museums and Art Galleries (Non-Contractors)                     41\n",
       "                      Hospitals & Clinics (Private) (National Scheme)                 31\n",
       "                      Village Halls, Scout Huts, Cadet Huts Etc                       24\n",
       "                      Fire Stations                                                   23\n",
       "                      Army Hereditaments                                              23\n",
       "Other Commercial      University Occupation Within Hospitals                          20\n",
       "Other Public          Post Office Sorting Centres                                     15\n",
       "                      Bus Stations                                                    15\n",
       "                      Courts (Contractors Valuation)                                  14\n",
       "Other Commercial      Station Let Outs                                                14\n",
       "Other Public          Ambulance Stations                                              10\n",
       "                      Courts (Rental Valuation)                                        9\n",
       "                      Swimming Pools (Local Authority)                                 9\n",
       "                      Civic and Public Buildings (Local Authority Occupations)         8\n",
       "Other Commercial      Lorry Parks                                                      7\n",
       "Other Public          MOD Hereditaments                                                6\n",
       "Other Commercial      Car Parking Within/Part of Specialist Property                   5\n",
       "Agricultural General  Stables and Loose Boxes                                          5\n",
       "Other Public          Mortuaries                                                       4\n",
       "                      Cemeteries (National Scheme)                                     4\n",
       "Other Commercial      District Heating Undertakings & Networks                         4\n",
       "Other Public          Railways & Tramways (Non Leisure)                                4\n",
       "                      Marinas (National Scheme)                                        4\n",
       "Other Commercial      Garages Within/Part of Specialist Property                       3\n",
       "                      University - Ancillary Land or Buildings                         2\n",
       "Other Public          Prison Service Hereditaments                                     2\n",
       "                      Crown Miscellaneous                                              2\n",
       "                      Bird Sanctuaries                                                 1\n",
       "Other Commercial      Sewage Works (National Scheme)                                   1\n",
       "Other Public          Navy Hereditaments                                               1\n",
       "Other Commercial      Liquid Bulk Storage (Incl Petrol & Oil) (National Scheme)        1\n",
       "                      Interactive Telephone Kiosks                                     1\n",
       "Other Public          Police Training Colleges                                         1\n",
       "                      Civic Amenity Sites                                              1\n",
       "dtype: int64"
      ]
     },
     "execution_count": 167,
     "metadata": {},
     "output_type": "execute_result"
    }
   ],
   "source": [
    "df_cropped[df_cropped.category.isna()][['sub_category','use_category']].value_counts()"
   ]
  },
  {
   "cell_type": "code",
   "execution_count": 168,
   "metadata": {},
   "outputs": [
    {
     "data": {
      "text/plain": [
       "['Office', 'Retail', 'Leisure', nan, 'Industrial']"
      ]
     },
     "execution_count": 168,
     "metadata": {},
     "output_type": "execute_result"
    }
   ],
   "source": [
    "list(df_cropped['category'].unique())"
   ]
  },
  {
   "cell_type": "code",
   "execution_count": 241,
   "metadata": {},
   "outputs": [],
   "source": [
    "categories = list(df_cropped['category'].unique())\n",
    "msoa_to_categories = pd.DataFrame()\n",
    "msoa_to_categories['total'] = df_cropped.groupby(['msoa11']).size()\n",
    "\n",
    "for c in categories:\n",
    "    msoa_to_categories[c] = df_cropped[df_cropped['category']==c].groupby(['msoa11']).size()\n",
    "\n",
    "msoa_to_categories['ret_restaurants'] = df_cropped[df_cropped.sub_category=='Retail Restaurants & Cafes'].groupby(['msoa11']).size()\n",
    "msoa_to_categories['ret_hs'] = df_cropped[df_cropped.sub_category=='Retail High Street'].groupby(['msoa11']).size()\n",
    "msoa_to_categories['ret_superstores'] = df_cropped[df_cropped.sub_category=='Retail Other Superstores/ Retail Warehouses'].groupby(['msoa11']).size()\n",
    "\n",
    "msoa_to_categories = msoa_to_categories.reset_index()"
   ]
  },
  {
   "cell_type": "code",
   "execution_count": 242,
   "metadata": {},
   "outputs": [
    {
     "data": {
      "text/html": [
       "<div>\n",
       "<style scoped>\n",
       "    .dataframe tbody tr th:only-of-type {\n",
       "        vertical-align: middle;\n",
       "    }\n",
       "\n",
       "    .dataframe tbody tr th {\n",
       "        vertical-align: top;\n",
       "    }\n",
       "\n",
       "    .dataframe thead th {\n",
       "        text-align: right;\n",
       "    }\n",
       "</style>\n",
       "<table border=\"1\" class=\"dataframe\">\n",
       "  <thead>\n",
       "    <tr style=\"text-align: right;\">\n",
       "      <th></th>\n",
       "      <th>index</th>\n",
       "      <th>total</th>\n",
       "      <th>Office</th>\n",
       "      <th>Retail</th>\n",
       "      <th>Leisure</th>\n",
       "      <th>NaN</th>\n",
       "      <th>Industrial</th>\n",
       "      <th>ret_restaurants</th>\n",
       "      <th>ret_hs</th>\n",
       "      <th>ret_superstores</th>\n",
       "    </tr>\n",
       "  </thead>\n",
       "  <tbody>\n",
       "    <tr>\n",
       "      <th>0</th>\n",
       "      <td>E02000001</td>\n",
       "      <td>22668</td>\n",
       "      <td>17640</td>\n",
       "      <td>3894</td>\n",
       "      <td>155.0</td>\n",
       "      <td>NaN</td>\n",
       "      <td>28.0</td>\n",
       "      <td>575</td>\n",
       "      <td>3243</td>\n",
       "      <td>6.0</td>\n",
       "    </tr>\n",
       "    <tr>\n",
       "      <th>1</th>\n",
       "      <td>E02000180</td>\n",
       "      <td>170</td>\n",
       "      <td>33</td>\n",
       "      <td>75</td>\n",
       "      <td>5.0</td>\n",
       "      <td>NaN</td>\n",
       "      <td>29.0</td>\n",
       "      <td>13</td>\n",
       "      <td>57</td>\n",
       "      <td>3.0</td>\n",
       "    </tr>\n",
       "    <tr>\n",
       "      <th>2</th>\n",
       "      <td>E02000183</td>\n",
       "      <td>469</td>\n",
       "      <td>247</td>\n",
       "      <td>157</td>\n",
       "      <td>4.0</td>\n",
       "      <td>NaN</td>\n",
       "      <td>26.0</td>\n",
       "      <td>39</td>\n",
       "      <td>117</td>\n",
       "      <td>1.0</td>\n",
       "    </tr>\n",
       "    <tr>\n",
       "      <th>3</th>\n",
       "      <td>E02000184</td>\n",
       "      <td>563</td>\n",
       "      <td>276</td>\n",
       "      <td>141</td>\n",
       "      <td>2.0</td>\n",
       "      <td>NaN</td>\n",
       "      <td>81.0</td>\n",
       "      <td>32</td>\n",
       "      <td>102</td>\n",
       "      <td>4.0</td>\n",
       "    </tr>\n",
       "    <tr>\n",
       "      <th>4</th>\n",
       "      <td>E02000186</td>\n",
       "      <td>1225</td>\n",
       "      <td>639</td>\n",
       "      <td>429</td>\n",
       "      <td>23.0</td>\n",
       "      <td>NaN</td>\n",
       "      <td>24.0</td>\n",
       "      <td>103</td>\n",
       "      <td>307</td>\n",
       "      <td>6.0</td>\n",
       "    </tr>\n",
       "    <tr>\n",
       "      <th>...</th>\n",
       "      <td>...</td>\n",
       "      <td>...</td>\n",
       "      <td>...</td>\n",
       "      <td>...</td>\n",
       "      <td>...</td>\n",
       "      <td>...</td>\n",
       "      <td>...</td>\n",
       "      <td>...</td>\n",
       "      <td>...</td>\n",
       "      <td>...</td>\n",
       "    </tr>\n",
       "    <tr>\n",
       "      <th>149</th>\n",
       "      <td>E02000983</td>\n",
       "      <td>129</td>\n",
       "      <td>36</td>\n",
       "      <td>58</td>\n",
       "      <td>1.0</td>\n",
       "      <td>NaN</td>\n",
       "      <td>2.0</td>\n",
       "      <td>7</td>\n",
       "      <td>50</td>\n",
       "      <td>NaN</td>\n",
       "    </tr>\n",
       "    <tr>\n",
       "      <th>150</th>\n",
       "      <td>E02006801</td>\n",
       "      <td>1035</td>\n",
       "      <td>460</td>\n",
       "      <td>372</td>\n",
       "      <td>16.0</td>\n",
       "      <td>NaN</td>\n",
       "      <td>55.0</td>\n",
       "      <td>107</td>\n",
       "      <td>253</td>\n",
       "      <td>4.0</td>\n",
       "    </tr>\n",
       "    <tr>\n",
       "      <th>151</th>\n",
       "      <td>E02006802</td>\n",
       "      <td>639</td>\n",
       "      <td>412</td>\n",
       "      <td>114</td>\n",
       "      <td>6.0</td>\n",
       "      <td>NaN</td>\n",
       "      <td>23.0</td>\n",
       "      <td>28</td>\n",
       "      <td>82</td>\n",
       "      <td>NaN</td>\n",
       "    </tr>\n",
       "    <tr>\n",
       "      <th>152</th>\n",
       "      <td>E02006853</td>\n",
       "      <td>559</td>\n",
       "      <td>362</td>\n",
       "      <td>83</td>\n",
       "      <td>6.0</td>\n",
       "      <td>NaN</td>\n",
       "      <td>8.0</td>\n",
       "      <td>6</td>\n",
       "      <td>76</td>\n",
       "      <td>NaN</td>\n",
       "    </tr>\n",
       "    <tr>\n",
       "      <th>153</th>\n",
       "      <td>E02006854</td>\n",
       "      <td>2484</td>\n",
       "      <td>1553</td>\n",
       "      <td>577</td>\n",
       "      <td>18.0</td>\n",
       "      <td>NaN</td>\n",
       "      <td>68.0</td>\n",
       "      <td>109</td>\n",
       "      <td>453</td>\n",
       "      <td>5.0</td>\n",
       "    </tr>\n",
       "  </tbody>\n",
       "</table>\n",
       "<p>154 rows × 10 columns</p>\n",
       "</div>"
      ],
      "text/plain": [
       "         index  total  Office  Retail  Leisure  NaN  Industrial  \\\n",
       "0    E02000001  22668   17640    3894    155.0  NaN        28.0   \n",
       "1    E02000180    170      33      75      5.0  NaN        29.0   \n",
       "2    E02000183    469     247     157      4.0  NaN        26.0   \n",
       "3    E02000184    563     276     141      2.0  NaN        81.0   \n",
       "4    E02000186   1225     639     429     23.0  NaN        24.0   \n",
       "..         ...    ...     ...     ...      ...  ...         ...   \n",
       "149  E02000983    129      36      58      1.0  NaN         2.0   \n",
       "150  E02006801   1035     460     372     16.0  NaN        55.0   \n",
       "151  E02006802    639     412     114      6.0  NaN        23.0   \n",
       "152  E02006853    559     362      83      6.0  NaN         8.0   \n",
       "153  E02006854   2484    1553     577     18.0  NaN        68.0   \n",
       "\n",
       "     ret_restaurants  ret_hs  ret_superstores  \n",
       "0                575    3243              6.0  \n",
       "1                 13      57              3.0  \n",
       "2                 39     117              1.0  \n",
       "3                 32     102              4.0  \n",
       "4                103     307              6.0  \n",
       "..               ...     ...              ...  \n",
       "149                7      50              NaN  \n",
       "150              107     253              4.0  \n",
       "151               28      82              NaN  \n",
       "152                6      76              NaN  \n",
       "153              109     453              5.0  \n",
       "\n",
       "[154 rows x 10 columns]"
      ]
     },
     "execution_count": 242,
     "metadata": {},
     "output_type": "execute_result"
    }
   ],
   "source": [
    "msoa_to_categories"
   ]
  },
  {
   "cell_type": "code",
   "execution_count": 243,
   "metadata": {},
   "outputs": [],
   "source": [
    "msoa_to_categories = msoa_to_categories.fillna(0)\n",
    "msoa_to_categories['other'] = msoa_to_categories['total'] - msoa_to_categories['Office'] - msoa_to_categories['Retail'] - msoa_to_categories['Leisure'] - msoa_to_categories['Industrial']"
   ]
  },
  {
   "cell_type": "code",
   "execution_count": 244,
   "metadata": {},
   "outputs": [],
   "source": [
    "msoa_to_categories = msoa_to_categories[['index', 'total', 'Office', 'Retail', 'Leisure', 'Industrial', 'other',\n",
    "                                        'ret_restaurants', 'ret_hs', 'ret_superstores']]\n",
    "msoa_to_categories.columns = ['msoa11', 'total', 'office', 'retail', 'leisure', 'industrial', 'other',\n",
    "                             'ret_restaurants', 'ret_hs', 'ret_superstores']"
   ]
  },
  {
   "cell_type": "code",
   "execution_count": 245,
   "metadata": {},
   "outputs": [],
   "source": [
    "for col in msoa_to_categories.columns[1:]:\n",
    "    msoa_to_categories[col] = msoa_to_categories[col].astype(int)"
   ]
  },
  {
   "cell_type": "code",
   "execution_count": 4,
   "metadata": {},
   "outputs": [],
   "source": [
    "msoa_to_categories.to_csv('../data/x/msoa_to_categories202103.csv', index=False)"
   ]
  },
  {
   "cell_type": "markdown",
   "metadata": {},
   "source": [
    "Repeat for other periods"
   ]
  },
  {
   "cell_type": "code",
   "execution_count": null,
   "metadata": {},
   "outputs": [],
   "source": [
    "# files = glob.glob('../data/retail/Whythawk/new_merged_reports/2020-03*')\n",
    "# df202003 = pd.concat(map(pd.read_csv, files))\n",
    "\n",
    "# files = glob.glob('../data/retail/Whythawk/new_merged_reports/2019-03*')\n",
    "# df201903 = pd.concat(map(pd.read_csv, files))\n",
    "\n",
    "# files = glob.glob('../data/retail/Whythawk/new_merged_reports/2020-06*')\n",
    "# df202006 = pd.concat(map(pd.read_csv, files))\n",
    "\n",
    "files = glob.glob('../data/retail/Whythawk/new_merged_reports/2019-06*')\n",
    "df201906 = pd.concat(map(pd.read_csv, files))"
   ]
  },
  {
   "cell_type": "code",
   "execution_count": null,
   "metadata": {},
   "outputs": [],
   "source": [
    "def aggregate_to_msoa(df):\n",
    "    df = df[df['rates_authority_id'].isin(intersected_boroughs_list)]\n",
    "    df['pc__pcs'] = df['pc__pcs'].str.replace(\" \", \"\")\n",
    "    df_cropped = df.merge(postcodes_cropped, how='inner', left_on='pc__pcs', right_on='pcd2')\n",
    "    categories = list(df_cropped['category'].unique())\n",
    "    \n",
    "    msoa_to_categories = pd.DataFrame()\n",
    "    msoa_to_categories['total'] = df_cropped.groupby(['msoa11']).size()\n",
    "\n",
    "    for c in categories:\n",
    "        msoa_to_categories[c] = df_cropped[df_cropped['category']==c].groupby(['msoa11']).size()\n",
    "    msoa_to_categories['ret_restaurants'] = df_cropped[df_cropped.sub_category=='Retail Restaurants & Cafes'].groupby(['msoa11']).size()\n",
    "    msoa_to_categories['ret_hs'] = df_cropped[df_cropped.sub_category=='Retail High Street'].groupby(['msoa11']).size()\n",
    "    msoa_to_categories['ret_superstores'] = df_cropped[df_cropped.sub_category=='Retail Other Superstores/ Retail Warehouses'].groupby(['msoa11']).size()\n",
    "    msoa_to_categories = msoa_to_categories.reset_index()\n",
    "    msoa_to_categories = msoa_to_categories.fillna(0)\n",
    "    msoa_to_categories['other'] = msoa_to_categories['total'] - msoa_to_categories['Office'] - msoa_to_categories['Retail'] - msoa_to_categories['Leisure'] - msoa_to_categories['Industrial']\n",
    "    msoa_to_categories = msoa_to_categories[['index', 'total', 'Office', 'Retail', 'Leisure', 'Industrial', 'other',\n",
    "                                        'ret_restaurants', 'ret_hs', 'ret_superstores']]\n",
    "    msoa_to_categories.columns = ['msoa11', 'total', 'office', 'retail', 'leisure', 'industrial', 'other',\n",
    "                             'ret_restaurants', 'ret_hs', 'ret_superstores']\n",
    "    for col in msoa_to_categories.columns[1:]:\n",
    "        msoa_to_categories[col] = msoa_to_categories[col].astype(int)\n",
    "    return msoa_to_categories"
   ]
  },
  {
   "cell_type": "code",
   "execution_count": null,
   "metadata": {},
   "outputs": [],
   "source": [
    "msoa_to_categories202003 = aggregate_to_msoa(df202003)\n",
    "msoa_to_categories201903 = aggregate_to_msoa(df201903)\n",
    "msoa_to_categories202006 = aggregate_to_msoa(df202006)\n",
    "msoa_to_categories201906 = aggregate_to_msoa(df201906)"
   ]
  },
  {
   "cell_type": "code",
   "execution_count": null,
   "metadata": {},
   "outputs": [],
   "source": [
    "msoa_to_categories202003.to_csv('../data/x/msoa_to_categories202003.csv', index=False)\n",
    "msoa_to_categories201903.to_csv('../data/x/msoa_to_categories201903.csv', index=False)\n",
    "msoa_to_categories202006.to_csv('../data/x/msoa_to_categories202006.csv', index=False)\n",
    "msoa_to_categories201906.to_csv('../data/x/msoa_to_categories201906.csv', index=False)"
   ]
  }
 ],
 "metadata": {
  "kernelspec": {
   "display_name": "Python 3",
   "language": "python",
   "name": "python3"
  },
  "language_info": {
   "codemirror_mode": {
    "name": "ipython",
    "version": 3
   },
   "file_extension": ".py",
   "mimetype": "text/x-python",
   "name": "python",
   "nbconvert_exporter": "python",
   "pygments_lexer": "ipython3",
   "version": "3.7.10"
  }
 },
 "nbformat": 4,
 "nbformat_minor": 4
}
